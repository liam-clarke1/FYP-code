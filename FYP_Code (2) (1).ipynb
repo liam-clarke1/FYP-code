{
  "cells": [
    {
      "cell_type": "code",
      "execution_count": 45,
      "metadata": {
        "id": "QKulPzplZCa9"
      },
      "outputs": [],
      "source": [
        "import pandas as pd\n",
        "\n",
        "from sklearn.model_selection import train_test_split\n",
        "\n",
        "from sklearn.linear_model import LogisticRegression\n",
        "\n",
        "from sklearn import preprocessing\n",
        "\n",
        "from sklearn.metrics import accuracy_score, classification_report, confusion_matrix\n",
        "\n",
        "from matplotlib import pyplot as plt\n",
        "\n",
        "import seaborn as sns\n",
        "\n",
        "from sklearn.linear_model import LinearRegression\n",
        "\n",
        "import numpy as np\n",
        "\n",
        "from sklearn.metrics import f1_score"
      ]
    },
    {
      "cell_type": "code",
      "execution_count": 46,
      "metadata": {
        "colab": {
          "base_uri": "https://localhost:8080/",
          "height": 560
        },
        "id": "eDfSNX1BZIFI",
        "outputId": "feba1947-7f8c-4a5a-857c-f5598d595e87"
      },
      "outputs": [
        {
          "output_type": "execute_result",
          "data": {
            "text/plain": [
              "       R_fighter          B_fighter        Referee        date  \\\n",
              "0   Adrian Yanez      Gustavo Lopez  Chris Tognoni  20/03/2021   \n",
              "1   Trevin Giles      Roman Dolidze      Herb Dean  20/03/2021   \n",
              "2    Tai Tuivasa    Harry Hunsucker      Herb Dean  20/03/2021   \n",
              "3  Cheyanne Buys  Montserrat Conejo     Mark Smith  20/03/2021   \n",
              "4  Marion Reneau      Macy Chiasson     Mark Smith  20/03/2021   \n",
              "\n",
              "                 location Winner  title_bout       weight_class  B_avg_KD  \\\n",
              "0  Las Vegas, Nevada, USA    Red       False       Bantamweight     0.000   \n",
              "1  Las Vegas, Nevada, USA    Red       False       Middleweight     0.500   \n",
              "2  Las Vegas, Nevada, USA    Red       False        Heavyweight       NaN   \n",
              "3  Las Vegas, Nevada, USA   Blue       False   WomenStrawweight       NaN   \n",
              "4  Las Vegas, Nevada, USA   Blue       False  WomenBantamweight     0.125   \n",
              "\n",
              "   B_avg_opp_KD  ...  R_win_by_Decision_Unanimous  R_win_by_KO/TKO  \\\n",
              "0           0.0  ...                            0                1   \n",
              "1           0.0  ...                            0                3   \n",
              "2           NaN  ...                            1                3   \n",
              "3           NaN  ...                            0                0   \n",
              "4           0.0  ...                            1                2   \n",
              "\n",
              "   R_win_by_Submission  R_win_by_TKO_Doctor_Stoppage  R_Stance  R_Height_cms  \\\n",
              "0                    0                             0  Orthodox        170.18   \n",
              "1                    0                             0  Orthodox        182.88   \n",
              "2                    0                             0  Southpaw        187.96   \n",
              "3                    0                             0    Switch        160.02   \n",
              "4                    2                             0  Orthodox        167.64   \n",
              "\n",
              "   R_Reach_cms  R_Weight_lbs  B_age  R_age  \n",
              "0       177.80         135.0   31.0   27.0  \n",
              "1       187.96         185.0   32.0   28.0  \n",
              "2       190.50         264.0   32.0   28.0  \n",
              "3       160.02         115.0   28.0   25.0  \n",
              "4       172.72         135.0   29.0   43.0  \n",
              "\n",
              "[5 rows x 144 columns]"
            ],
            "text/html": [
              "\n",
              "  <div id=\"df-00c95691-04a9-4323-b85e-5c00e20b4837\">\n",
              "    <div class=\"colab-df-container\">\n",
              "      <div>\n",
              "<style scoped>\n",
              "    .dataframe tbody tr th:only-of-type {\n",
              "        vertical-align: middle;\n",
              "    }\n",
              "\n",
              "    .dataframe tbody tr th {\n",
              "        vertical-align: top;\n",
              "    }\n",
              "\n",
              "    .dataframe thead th {\n",
              "        text-align: right;\n",
              "    }\n",
              "</style>\n",
              "<table border=\"1\" class=\"dataframe\">\n",
              "  <thead>\n",
              "    <tr style=\"text-align: right;\">\n",
              "      <th></th>\n",
              "      <th>R_fighter</th>\n",
              "      <th>B_fighter</th>\n",
              "      <th>Referee</th>\n",
              "      <th>date</th>\n",
              "      <th>location</th>\n",
              "      <th>Winner</th>\n",
              "      <th>title_bout</th>\n",
              "      <th>weight_class</th>\n",
              "      <th>B_avg_KD</th>\n",
              "      <th>B_avg_opp_KD</th>\n",
              "      <th>...</th>\n",
              "      <th>R_win_by_Decision_Unanimous</th>\n",
              "      <th>R_win_by_KO/TKO</th>\n",
              "      <th>R_win_by_Submission</th>\n",
              "      <th>R_win_by_TKO_Doctor_Stoppage</th>\n",
              "      <th>R_Stance</th>\n",
              "      <th>R_Height_cms</th>\n",
              "      <th>R_Reach_cms</th>\n",
              "      <th>R_Weight_lbs</th>\n",
              "      <th>B_age</th>\n",
              "      <th>R_age</th>\n",
              "    </tr>\n",
              "  </thead>\n",
              "  <tbody>\n",
              "    <tr>\n",
              "      <th>0</th>\n",
              "      <td>Adrian Yanez</td>\n",
              "      <td>Gustavo Lopez</td>\n",
              "      <td>Chris Tognoni</td>\n",
              "      <td>20/03/2021</td>\n",
              "      <td>Las Vegas, Nevada, USA</td>\n",
              "      <td>Red</td>\n",
              "      <td>False</td>\n",
              "      <td>Bantamweight</td>\n",
              "      <td>0.000</td>\n",
              "      <td>0.0</td>\n",
              "      <td>...</td>\n",
              "      <td>0</td>\n",
              "      <td>1</td>\n",
              "      <td>0</td>\n",
              "      <td>0</td>\n",
              "      <td>Orthodox</td>\n",
              "      <td>170.18</td>\n",
              "      <td>177.80</td>\n",
              "      <td>135.0</td>\n",
              "      <td>31.0</td>\n",
              "      <td>27.0</td>\n",
              "    </tr>\n",
              "    <tr>\n",
              "      <th>1</th>\n",
              "      <td>Trevin Giles</td>\n",
              "      <td>Roman Dolidze</td>\n",
              "      <td>Herb Dean</td>\n",
              "      <td>20/03/2021</td>\n",
              "      <td>Las Vegas, Nevada, USA</td>\n",
              "      <td>Red</td>\n",
              "      <td>False</td>\n",
              "      <td>Middleweight</td>\n",
              "      <td>0.500</td>\n",
              "      <td>0.0</td>\n",
              "      <td>...</td>\n",
              "      <td>0</td>\n",
              "      <td>3</td>\n",
              "      <td>0</td>\n",
              "      <td>0</td>\n",
              "      <td>Orthodox</td>\n",
              "      <td>182.88</td>\n",
              "      <td>187.96</td>\n",
              "      <td>185.0</td>\n",
              "      <td>32.0</td>\n",
              "      <td>28.0</td>\n",
              "    </tr>\n",
              "    <tr>\n",
              "      <th>2</th>\n",
              "      <td>Tai Tuivasa</td>\n",
              "      <td>Harry Hunsucker</td>\n",
              "      <td>Herb Dean</td>\n",
              "      <td>20/03/2021</td>\n",
              "      <td>Las Vegas, Nevada, USA</td>\n",
              "      <td>Red</td>\n",
              "      <td>False</td>\n",
              "      <td>Heavyweight</td>\n",
              "      <td>NaN</td>\n",
              "      <td>NaN</td>\n",
              "      <td>...</td>\n",
              "      <td>1</td>\n",
              "      <td>3</td>\n",
              "      <td>0</td>\n",
              "      <td>0</td>\n",
              "      <td>Southpaw</td>\n",
              "      <td>187.96</td>\n",
              "      <td>190.50</td>\n",
              "      <td>264.0</td>\n",
              "      <td>32.0</td>\n",
              "      <td>28.0</td>\n",
              "    </tr>\n",
              "    <tr>\n",
              "      <th>3</th>\n",
              "      <td>Cheyanne Buys</td>\n",
              "      <td>Montserrat Conejo</td>\n",
              "      <td>Mark Smith</td>\n",
              "      <td>20/03/2021</td>\n",
              "      <td>Las Vegas, Nevada, USA</td>\n",
              "      <td>Blue</td>\n",
              "      <td>False</td>\n",
              "      <td>WomenStrawweight</td>\n",
              "      <td>NaN</td>\n",
              "      <td>NaN</td>\n",
              "      <td>...</td>\n",
              "      <td>0</td>\n",
              "      <td>0</td>\n",
              "      <td>0</td>\n",
              "      <td>0</td>\n",
              "      <td>Switch</td>\n",
              "      <td>160.02</td>\n",
              "      <td>160.02</td>\n",
              "      <td>115.0</td>\n",
              "      <td>28.0</td>\n",
              "      <td>25.0</td>\n",
              "    </tr>\n",
              "    <tr>\n",
              "      <th>4</th>\n",
              "      <td>Marion Reneau</td>\n",
              "      <td>Macy Chiasson</td>\n",
              "      <td>Mark Smith</td>\n",
              "      <td>20/03/2021</td>\n",
              "      <td>Las Vegas, Nevada, USA</td>\n",
              "      <td>Blue</td>\n",
              "      <td>False</td>\n",
              "      <td>WomenBantamweight</td>\n",
              "      <td>0.125</td>\n",
              "      <td>0.0</td>\n",
              "      <td>...</td>\n",
              "      <td>1</td>\n",
              "      <td>2</td>\n",
              "      <td>2</td>\n",
              "      <td>0</td>\n",
              "      <td>Orthodox</td>\n",
              "      <td>167.64</td>\n",
              "      <td>172.72</td>\n",
              "      <td>135.0</td>\n",
              "      <td>29.0</td>\n",
              "      <td>43.0</td>\n",
              "    </tr>\n",
              "  </tbody>\n",
              "</table>\n",
              "<p>5 rows × 144 columns</p>\n",
              "</div>\n",
              "      <button class=\"colab-df-convert\" onclick=\"convertToInteractive('df-00c95691-04a9-4323-b85e-5c00e20b4837')\"\n",
              "              title=\"Convert this dataframe to an interactive table.\"\n",
              "              style=\"display:none;\">\n",
              "        \n",
              "  <svg xmlns=\"http://www.w3.org/2000/svg\" height=\"24px\"viewBox=\"0 0 24 24\"\n",
              "       width=\"24px\">\n",
              "    <path d=\"M0 0h24v24H0V0z\" fill=\"none\"/>\n",
              "    <path d=\"M18.56 5.44l.94 2.06.94-2.06 2.06-.94-2.06-.94-.94-2.06-.94 2.06-2.06.94zm-11 1L8.5 8.5l.94-2.06 2.06-.94-2.06-.94L8.5 2.5l-.94 2.06-2.06.94zm10 10l.94 2.06.94-2.06 2.06-.94-2.06-.94-.94-2.06-.94 2.06-2.06.94z\"/><path d=\"M17.41 7.96l-1.37-1.37c-.4-.4-.92-.59-1.43-.59-.52 0-1.04.2-1.43.59L10.3 9.45l-7.72 7.72c-.78.78-.78 2.05 0 2.83L4 21.41c.39.39.9.59 1.41.59.51 0 1.02-.2 1.41-.59l7.78-7.78 2.81-2.81c.8-.78.8-2.07 0-2.86zM5.41 20L4 18.59l7.72-7.72 1.47 1.35L5.41 20z\"/>\n",
              "  </svg>\n",
              "      </button>\n",
              "      \n",
              "  <style>\n",
              "    .colab-df-container {\n",
              "      display:flex;\n",
              "      flex-wrap:wrap;\n",
              "      gap: 12px;\n",
              "    }\n",
              "\n",
              "    .colab-df-convert {\n",
              "      background-color: #E8F0FE;\n",
              "      border: none;\n",
              "      border-radius: 50%;\n",
              "      cursor: pointer;\n",
              "      display: none;\n",
              "      fill: #1967D2;\n",
              "      height: 32px;\n",
              "      padding: 0 0 0 0;\n",
              "      width: 32px;\n",
              "    }\n",
              "\n",
              "    .colab-df-convert:hover {\n",
              "      background-color: #E2EBFA;\n",
              "      box-shadow: 0px 1px 2px rgba(60, 64, 67, 0.3), 0px 1px 3px 1px rgba(60, 64, 67, 0.15);\n",
              "      fill: #174EA6;\n",
              "    }\n",
              "\n",
              "    [theme=dark] .colab-df-convert {\n",
              "      background-color: #3B4455;\n",
              "      fill: #D2E3FC;\n",
              "    }\n",
              "\n",
              "    [theme=dark] .colab-df-convert:hover {\n",
              "      background-color: #434B5C;\n",
              "      box-shadow: 0px 1px 3px 1px rgba(0, 0, 0, 0.15);\n",
              "      filter: drop-shadow(0px 1px 2px rgba(0, 0, 0, 0.3));\n",
              "      fill: #FFFFFF;\n",
              "    }\n",
              "  </style>\n",
              "\n",
              "      <script>\n",
              "        const buttonEl =\n",
              "          document.querySelector('#df-00c95691-04a9-4323-b85e-5c00e20b4837 button.colab-df-convert');\n",
              "        buttonEl.style.display =\n",
              "          google.colab.kernel.accessAllowed ? 'block' : 'none';\n",
              "\n",
              "        async function convertToInteractive(key) {\n",
              "          const element = document.querySelector('#df-00c95691-04a9-4323-b85e-5c00e20b4837');\n",
              "          const dataTable =\n",
              "            await google.colab.kernel.invokeFunction('convertToInteractive',\n",
              "                                                     [key], {});\n",
              "          if (!dataTable) return;\n",
              "\n",
              "          const docLinkHtml = 'Like what you see? Visit the ' +\n",
              "            '<a target=\"_blank\" href=https://colab.research.google.com/notebooks/data_table.ipynb>data table notebook</a>'\n",
              "            + ' to learn more about interactive tables.';\n",
              "          element.innerHTML = '';\n",
              "          dataTable['output_type'] = 'display_data';\n",
              "          await google.colab.output.renderOutput(dataTable, element);\n",
              "          const docLink = document.createElement('div');\n",
              "          docLink.innerHTML = docLinkHtml;\n",
              "          element.appendChild(docLink);\n",
              "        }\n",
              "      </script>\n",
              "    </div>\n",
              "  </div>\n",
              "  "
            ]
          },
          "metadata": {},
          "execution_count": 46
        }
      ],
      "source": [
        "df = pd.read_csv('UFC_Dataset.csv')\n",
        "df.head()"
      ]
    },
    {
      "cell_type": "code",
      "execution_count": 47,
      "metadata": {
        "id": "hDUlZkIBZOZN",
        "colab": {
          "base_uri": "https://localhost:8080/"
        },
        "outputId": "135c6b59-0f84-4369-ce1b-917653a0b20c"
      },
      "outputs": [
        {
          "output_type": "execute_result",
          "data": {
            "text/plain": [
              "0"
            ]
          },
          "metadata": {},
          "execution_count": 47
        }
      ],
      "source": [
        "sum(df.duplicated())"
      ]
    },
    {
      "cell_type": "code",
      "execution_count": 48,
      "metadata": {
        "id": "-xiK8BM7ZQ2x",
        "colab": {
          "base_uri": "https://localhost:8080/",
          "height": 300
        },
        "outputId": "b24b60a8-3a02-4485-f6ef-dbab0fd5dfa4"
      },
      "outputs": [
        {
          "output_type": "execute_result",
          "data": {
            "text/plain": [
              "  Winner  title_bout  B_avg_KD  B_avg_opp_KD  B_avg_SIG_STR_pct  \\\n",
              "0    Red       False  0.000000         0.000           0.420000   \n",
              "1    Red       False  0.500000         0.000           0.660000   \n",
              "4   Blue       False  0.125000         0.000           0.535625   \n",
              "5   Blue       False  0.000000         0.000           0.515000   \n",
              "6   Blue       False  0.046875         0.125           0.459277   \n",
              "\n",
              "   B_avg_opp_SIG_STR_pct  B_avg_TD_pct  B_avg_opp_TD_pct  B_avg_SUB_ATT  \\\n",
              "0               0.495000      0.330000          0.360000       0.500000   \n",
              "1               0.305000      0.300000          0.500000       1.500000   \n",
              "4               0.578750      0.185000          0.166250       0.125000   \n",
              "5               0.473750      0.435000          0.250000       1.250000   \n",
              "6               0.404687      0.322188          0.068867       0.189453   \n",
              "\n",
              "   B_avg_opp_SUB_ATT  ...  R_win_by_Decision_Unanimous  R_win_by_KO/TKO  \\\n",
              "0             1.0000  ...                            0                1   \n",
              "1             0.0000  ...                            0                3   \n",
              "4             0.1875  ...                            1                2   \n",
              "5             0.6250  ...                            2                2   \n",
              "6             0.0000  ...                            1                3   \n",
              "\n",
              "   R_win_by_Submission  R_win_by_TKO_Doctor_Stoppage  R_Stance  R_Height_cms  \\\n",
              "0                    0                             0  Orthodox        170.18   \n",
              "1                    0                             0  Orthodox        182.88   \n",
              "4                    2                             0  Orthodox        167.64   \n",
              "5                    2                             0  Orthodox        182.88   \n",
              "6                    0                             0  Orthodox        182.88   \n",
              "\n",
              "   R_Reach_cms  R_Weight_lbs  B_age  R_age  \n",
              "0       177.80         135.0   31.0   27.0  \n",
              "1       187.96         185.0   32.0   28.0  \n",
              "4       172.72         135.0   29.0   43.0  \n",
              "5       190.50         155.0   27.0   41.0  \n",
              "6       180.34         170.0   35.0   31.0  \n",
              "\n",
              "[5 rows x 138 columns]"
            ],
            "text/html": [
              "\n",
              "  <div id=\"df-c82e3c8a-1e4d-4195-9464-3b390fb495c9\">\n",
              "    <div class=\"colab-df-container\">\n",
              "      <div>\n",
              "<style scoped>\n",
              "    .dataframe tbody tr th:only-of-type {\n",
              "        vertical-align: middle;\n",
              "    }\n",
              "\n",
              "    .dataframe tbody tr th {\n",
              "        vertical-align: top;\n",
              "    }\n",
              "\n",
              "    .dataframe thead th {\n",
              "        text-align: right;\n",
              "    }\n",
              "</style>\n",
              "<table border=\"1\" class=\"dataframe\">\n",
              "  <thead>\n",
              "    <tr style=\"text-align: right;\">\n",
              "      <th></th>\n",
              "      <th>Winner</th>\n",
              "      <th>title_bout</th>\n",
              "      <th>B_avg_KD</th>\n",
              "      <th>B_avg_opp_KD</th>\n",
              "      <th>B_avg_SIG_STR_pct</th>\n",
              "      <th>B_avg_opp_SIG_STR_pct</th>\n",
              "      <th>B_avg_TD_pct</th>\n",
              "      <th>B_avg_opp_TD_pct</th>\n",
              "      <th>B_avg_SUB_ATT</th>\n",
              "      <th>B_avg_opp_SUB_ATT</th>\n",
              "      <th>...</th>\n",
              "      <th>R_win_by_Decision_Unanimous</th>\n",
              "      <th>R_win_by_KO/TKO</th>\n",
              "      <th>R_win_by_Submission</th>\n",
              "      <th>R_win_by_TKO_Doctor_Stoppage</th>\n",
              "      <th>R_Stance</th>\n",
              "      <th>R_Height_cms</th>\n",
              "      <th>R_Reach_cms</th>\n",
              "      <th>R_Weight_lbs</th>\n",
              "      <th>B_age</th>\n",
              "      <th>R_age</th>\n",
              "    </tr>\n",
              "  </thead>\n",
              "  <tbody>\n",
              "    <tr>\n",
              "      <th>0</th>\n",
              "      <td>Red</td>\n",
              "      <td>False</td>\n",
              "      <td>0.000000</td>\n",
              "      <td>0.000</td>\n",
              "      <td>0.420000</td>\n",
              "      <td>0.495000</td>\n",
              "      <td>0.330000</td>\n",
              "      <td>0.360000</td>\n",
              "      <td>0.500000</td>\n",
              "      <td>1.0000</td>\n",
              "      <td>...</td>\n",
              "      <td>0</td>\n",
              "      <td>1</td>\n",
              "      <td>0</td>\n",
              "      <td>0</td>\n",
              "      <td>Orthodox</td>\n",
              "      <td>170.18</td>\n",
              "      <td>177.80</td>\n",
              "      <td>135.0</td>\n",
              "      <td>31.0</td>\n",
              "      <td>27.0</td>\n",
              "    </tr>\n",
              "    <tr>\n",
              "      <th>1</th>\n",
              "      <td>Red</td>\n",
              "      <td>False</td>\n",
              "      <td>0.500000</td>\n",
              "      <td>0.000</td>\n",
              "      <td>0.660000</td>\n",
              "      <td>0.305000</td>\n",
              "      <td>0.300000</td>\n",
              "      <td>0.500000</td>\n",
              "      <td>1.500000</td>\n",
              "      <td>0.0000</td>\n",
              "      <td>...</td>\n",
              "      <td>0</td>\n",
              "      <td>3</td>\n",
              "      <td>0</td>\n",
              "      <td>0</td>\n",
              "      <td>Orthodox</td>\n",
              "      <td>182.88</td>\n",
              "      <td>187.96</td>\n",
              "      <td>185.0</td>\n",
              "      <td>32.0</td>\n",
              "      <td>28.0</td>\n",
              "    </tr>\n",
              "    <tr>\n",
              "      <th>4</th>\n",
              "      <td>Blue</td>\n",
              "      <td>False</td>\n",
              "      <td>0.125000</td>\n",
              "      <td>0.000</td>\n",
              "      <td>0.535625</td>\n",
              "      <td>0.578750</td>\n",
              "      <td>0.185000</td>\n",
              "      <td>0.166250</td>\n",
              "      <td>0.125000</td>\n",
              "      <td>0.1875</td>\n",
              "      <td>...</td>\n",
              "      <td>1</td>\n",
              "      <td>2</td>\n",
              "      <td>2</td>\n",
              "      <td>0</td>\n",
              "      <td>Orthodox</td>\n",
              "      <td>167.64</td>\n",
              "      <td>172.72</td>\n",
              "      <td>135.0</td>\n",
              "      <td>29.0</td>\n",
              "      <td>43.0</td>\n",
              "    </tr>\n",
              "    <tr>\n",
              "      <th>5</th>\n",
              "      <td>Blue</td>\n",
              "      <td>False</td>\n",
              "      <td>0.000000</td>\n",
              "      <td>0.000</td>\n",
              "      <td>0.515000</td>\n",
              "      <td>0.473750</td>\n",
              "      <td>0.435000</td>\n",
              "      <td>0.250000</td>\n",
              "      <td>1.250000</td>\n",
              "      <td>0.6250</td>\n",
              "      <td>...</td>\n",
              "      <td>2</td>\n",
              "      <td>2</td>\n",
              "      <td>2</td>\n",
              "      <td>0</td>\n",
              "      <td>Orthodox</td>\n",
              "      <td>182.88</td>\n",
              "      <td>190.50</td>\n",
              "      <td>155.0</td>\n",
              "      <td>27.0</td>\n",
              "      <td>41.0</td>\n",
              "    </tr>\n",
              "    <tr>\n",
              "      <th>6</th>\n",
              "      <td>Blue</td>\n",
              "      <td>False</td>\n",
              "      <td>0.046875</td>\n",
              "      <td>0.125</td>\n",
              "      <td>0.459277</td>\n",
              "      <td>0.404687</td>\n",
              "      <td>0.322188</td>\n",
              "      <td>0.068867</td>\n",
              "      <td>0.189453</td>\n",
              "      <td>0.0000</td>\n",
              "      <td>...</td>\n",
              "      <td>1</td>\n",
              "      <td>3</td>\n",
              "      <td>0</td>\n",
              "      <td>0</td>\n",
              "      <td>Orthodox</td>\n",
              "      <td>182.88</td>\n",
              "      <td>180.34</td>\n",
              "      <td>170.0</td>\n",
              "      <td>35.0</td>\n",
              "      <td>31.0</td>\n",
              "    </tr>\n",
              "  </tbody>\n",
              "</table>\n",
              "<p>5 rows × 138 columns</p>\n",
              "</div>\n",
              "      <button class=\"colab-df-convert\" onclick=\"convertToInteractive('df-c82e3c8a-1e4d-4195-9464-3b390fb495c9')\"\n",
              "              title=\"Convert this dataframe to an interactive table.\"\n",
              "              style=\"display:none;\">\n",
              "        \n",
              "  <svg xmlns=\"http://www.w3.org/2000/svg\" height=\"24px\"viewBox=\"0 0 24 24\"\n",
              "       width=\"24px\">\n",
              "    <path d=\"M0 0h24v24H0V0z\" fill=\"none\"/>\n",
              "    <path d=\"M18.56 5.44l.94 2.06.94-2.06 2.06-.94-2.06-.94-.94-2.06-.94 2.06-2.06.94zm-11 1L8.5 8.5l.94-2.06 2.06-.94-2.06-.94L8.5 2.5l-.94 2.06-2.06.94zm10 10l.94 2.06.94-2.06 2.06-.94-2.06-.94-.94-2.06-.94 2.06-2.06.94z\"/><path d=\"M17.41 7.96l-1.37-1.37c-.4-.4-.92-.59-1.43-.59-.52 0-1.04.2-1.43.59L10.3 9.45l-7.72 7.72c-.78.78-.78 2.05 0 2.83L4 21.41c.39.39.9.59 1.41.59.51 0 1.02-.2 1.41-.59l7.78-7.78 2.81-2.81c.8-.78.8-2.07 0-2.86zM5.41 20L4 18.59l7.72-7.72 1.47 1.35L5.41 20z\"/>\n",
              "  </svg>\n",
              "      </button>\n",
              "      \n",
              "  <style>\n",
              "    .colab-df-container {\n",
              "      display:flex;\n",
              "      flex-wrap:wrap;\n",
              "      gap: 12px;\n",
              "    }\n",
              "\n",
              "    .colab-df-convert {\n",
              "      background-color: #E8F0FE;\n",
              "      border: none;\n",
              "      border-radius: 50%;\n",
              "      cursor: pointer;\n",
              "      display: none;\n",
              "      fill: #1967D2;\n",
              "      height: 32px;\n",
              "      padding: 0 0 0 0;\n",
              "      width: 32px;\n",
              "    }\n",
              "\n",
              "    .colab-df-convert:hover {\n",
              "      background-color: #E2EBFA;\n",
              "      box-shadow: 0px 1px 2px rgba(60, 64, 67, 0.3), 0px 1px 3px 1px rgba(60, 64, 67, 0.15);\n",
              "      fill: #174EA6;\n",
              "    }\n",
              "\n",
              "    [theme=dark] .colab-df-convert {\n",
              "      background-color: #3B4455;\n",
              "      fill: #D2E3FC;\n",
              "    }\n",
              "\n",
              "    [theme=dark] .colab-df-convert:hover {\n",
              "      background-color: #434B5C;\n",
              "      box-shadow: 0px 1px 3px 1px rgba(0, 0, 0, 0.15);\n",
              "      filter: drop-shadow(0px 1px 2px rgba(0, 0, 0, 0.3));\n",
              "      fill: #FFFFFF;\n",
              "    }\n",
              "  </style>\n",
              "\n",
              "      <script>\n",
              "        const buttonEl =\n",
              "          document.querySelector('#df-c82e3c8a-1e4d-4195-9464-3b390fb495c9 button.colab-df-convert');\n",
              "        buttonEl.style.display =\n",
              "          google.colab.kernel.accessAllowed ? 'block' : 'none';\n",
              "\n",
              "        async function convertToInteractive(key) {\n",
              "          const element = document.querySelector('#df-c82e3c8a-1e4d-4195-9464-3b390fb495c9');\n",
              "          const dataTable =\n",
              "            await google.colab.kernel.invokeFunction('convertToInteractive',\n",
              "                                                     [key], {});\n",
              "          if (!dataTable) return;\n",
              "\n",
              "          const docLinkHtml = 'Like what you see? Visit the ' +\n",
              "            '<a target=\"_blank\" href=https://colab.research.google.com/notebooks/data_table.ipynb>data table notebook</a>'\n",
              "            + ' to learn more about interactive tables.';\n",
              "          element.innerHTML = '';\n",
              "          dataTable['output_type'] = 'display_data';\n",
              "          await google.colab.output.renderOutput(dataTable, element);\n",
              "          const docLink = document.createElement('div');\n",
              "          docLink.innerHTML = docLinkHtml;\n",
              "          element.appendChild(docLink);\n",
              "        }\n",
              "      </script>\n",
              "    </div>\n",
              "  </div>\n",
              "  "
            ]
          },
          "metadata": {},
          "execution_count": 48
        }
      ],
      "source": [
        "df = df.drop(['R_fighter','B_fighter','Referee','date','location','weight_class'], axis=1)\n",
        "df = df.dropna()\n",
        "df.head()"
      ]
    },
    {
      "cell_type": "code",
      "execution_count": 49,
      "metadata": {
        "id": "FupVzU4NZS_9",
        "colab": {
          "base_uri": "https://localhost:8080/"
        },
        "outputId": "2268a2c7-21fd-4b85-a027-cd07a9106f64"
      },
      "outputs": [
        {
          "output_type": "stream",
          "name": "stdout",
          "text": [
            "['Red' 'Blue' 'Draw']\n"
          ]
        }
      ],
      "source": [
        "print(df['Winner'].unique())"
      ]
    },
    {
      "cell_type": "code",
      "execution_count": 50,
      "metadata": {
        "id": "HAIcWlgMZZZx",
        "colab": {
          "base_uri": "https://localhost:8080/",
          "height": 404
        },
        "outputId": "0764dba5-090d-4365-9a6c-b660e511bc6f"
      },
      "outputs": [
        {
          "output_type": "stream",
          "name": "stderr",
          "text": [
            "/usr/local/lib/python3.7/dist-packages/ipykernel_launcher.py:5: SettingWithCopyWarning: \n",
            "A value is trying to be set on a copy of a slice from a DataFrame.\n",
            "Try using .loc[row_indexer,col_indexer] = value instead\n",
            "\n",
            "See the caveats in the documentation: https://pandas.pydata.org/pandas-docs/stable/user_guide/indexing.html#returning-a-view-versus-a-copy\n",
            "  \"\"\"\n"
          ]
        },
        {
          "output_type": "execute_result",
          "data": {
            "text/plain": [
              "   Winner  title_bout  B_avg_KD  B_avg_opp_KD  B_avg_SIG_STR_pct  \\\n",
              "0       2       False  0.000000         0.000           0.420000   \n",
              "1       2       False  0.500000         0.000           0.660000   \n",
              "4       0       False  0.125000         0.000           0.535625   \n",
              "5       0       False  0.000000         0.000           0.515000   \n",
              "6       0       False  0.046875         0.125           0.459277   \n",
              "\n",
              "   B_avg_opp_SIG_STR_pct  B_avg_TD_pct  B_avg_opp_TD_pct  B_avg_SUB_ATT  \\\n",
              "0               0.495000      0.330000          0.360000       0.500000   \n",
              "1               0.305000      0.300000          0.500000       1.500000   \n",
              "4               0.578750      0.185000          0.166250       0.125000   \n",
              "5               0.473750      0.435000          0.250000       1.250000   \n",
              "6               0.404687      0.322188          0.068867       0.189453   \n",
              "\n",
              "   B_avg_opp_SUB_ATT  ...  R_win_by_Decision_Unanimous  R_win_by_KO/TKO  \\\n",
              "0             1.0000  ...                            0                1   \n",
              "1             0.0000  ...                            0                3   \n",
              "4             0.1875  ...                            1                2   \n",
              "5             0.6250  ...                            2                2   \n",
              "6             0.0000  ...                            1                3   \n",
              "\n",
              "   R_win_by_Submission  R_win_by_TKO_Doctor_Stoppage  R_Stance  R_Height_cms  \\\n",
              "0                    0                             0  Orthodox        170.18   \n",
              "1                    0                             0  Orthodox        182.88   \n",
              "4                    2                             0  Orthodox        167.64   \n",
              "5                    2                             0  Orthodox        182.88   \n",
              "6                    0                             0  Orthodox        182.88   \n",
              "\n",
              "   R_Reach_cms  R_Weight_lbs  B_age  R_age  \n",
              "0       177.80         135.0   31.0   27.0  \n",
              "1       187.96         185.0   32.0   28.0  \n",
              "4       172.72         135.0   29.0   43.0  \n",
              "5       190.50         155.0   27.0   41.0  \n",
              "6       180.34         170.0   35.0   31.0  \n",
              "\n",
              "[5 rows x 138 columns]"
            ],
            "text/html": [
              "\n",
              "  <div id=\"df-48581ca8-2511-493b-b482-7087e50987ca\">\n",
              "    <div class=\"colab-df-container\">\n",
              "      <div>\n",
              "<style scoped>\n",
              "    .dataframe tbody tr th:only-of-type {\n",
              "        vertical-align: middle;\n",
              "    }\n",
              "\n",
              "    .dataframe tbody tr th {\n",
              "        vertical-align: top;\n",
              "    }\n",
              "\n",
              "    .dataframe thead th {\n",
              "        text-align: right;\n",
              "    }\n",
              "</style>\n",
              "<table border=\"1\" class=\"dataframe\">\n",
              "  <thead>\n",
              "    <tr style=\"text-align: right;\">\n",
              "      <th></th>\n",
              "      <th>Winner</th>\n",
              "      <th>title_bout</th>\n",
              "      <th>B_avg_KD</th>\n",
              "      <th>B_avg_opp_KD</th>\n",
              "      <th>B_avg_SIG_STR_pct</th>\n",
              "      <th>B_avg_opp_SIG_STR_pct</th>\n",
              "      <th>B_avg_TD_pct</th>\n",
              "      <th>B_avg_opp_TD_pct</th>\n",
              "      <th>B_avg_SUB_ATT</th>\n",
              "      <th>B_avg_opp_SUB_ATT</th>\n",
              "      <th>...</th>\n",
              "      <th>R_win_by_Decision_Unanimous</th>\n",
              "      <th>R_win_by_KO/TKO</th>\n",
              "      <th>R_win_by_Submission</th>\n",
              "      <th>R_win_by_TKO_Doctor_Stoppage</th>\n",
              "      <th>R_Stance</th>\n",
              "      <th>R_Height_cms</th>\n",
              "      <th>R_Reach_cms</th>\n",
              "      <th>R_Weight_lbs</th>\n",
              "      <th>B_age</th>\n",
              "      <th>R_age</th>\n",
              "    </tr>\n",
              "  </thead>\n",
              "  <tbody>\n",
              "    <tr>\n",
              "      <th>0</th>\n",
              "      <td>2</td>\n",
              "      <td>False</td>\n",
              "      <td>0.000000</td>\n",
              "      <td>0.000</td>\n",
              "      <td>0.420000</td>\n",
              "      <td>0.495000</td>\n",
              "      <td>0.330000</td>\n",
              "      <td>0.360000</td>\n",
              "      <td>0.500000</td>\n",
              "      <td>1.0000</td>\n",
              "      <td>...</td>\n",
              "      <td>0</td>\n",
              "      <td>1</td>\n",
              "      <td>0</td>\n",
              "      <td>0</td>\n",
              "      <td>Orthodox</td>\n",
              "      <td>170.18</td>\n",
              "      <td>177.80</td>\n",
              "      <td>135.0</td>\n",
              "      <td>31.0</td>\n",
              "      <td>27.0</td>\n",
              "    </tr>\n",
              "    <tr>\n",
              "      <th>1</th>\n",
              "      <td>2</td>\n",
              "      <td>False</td>\n",
              "      <td>0.500000</td>\n",
              "      <td>0.000</td>\n",
              "      <td>0.660000</td>\n",
              "      <td>0.305000</td>\n",
              "      <td>0.300000</td>\n",
              "      <td>0.500000</td>\n",
              "      <td>1.500000</td>\n",
              "      <td>0.0000</td>\n",
              "      <td>...</td>\n",
              "      <td>0</td>\n",
              "      <td>3</td>\n",
              "      <td>0</td>\n",
              "      <td>0</td>\n",
              "      <td>Orthodox</td>\n",
              "      <td>182.88</td>\n",
              "      <td>187.96</td>\n",
              "      <td>185.0</td>\n",
              "      <td>32.0</td>\n",
              "      <td>28.0</td>\n",
              "    </tr>\n",
              "    <tr>\n",
              "      <th>4</th>\n",
              "      <td>0</td>\n",
              "      <td>False</td>\n",
              "      <td>0.125000</td>\n",
              "      <td>0.000</td>\n",
              "      <td>0.535625</td>\n",
              "      <td>0.578750</td>\n",
              "      <td>0.185000</td>\n",
              "      <td>0.166250</td>\n",
              "      <td>0.125000</td>\n",
              "      <td>0.1875</td>\n",
              "      <td>...</td>\n",
              "      <td>1</td>\n",
              "      <td>2</td>\n",
              "      <td>2</td>\n",
              "      <td>0</td>\n",
              "      <td>Orthodox</td>\n",
              "      <td>167.64</td>\n",
              "      <td>172.72</td>\n",
              "      <td>135.0</td>\n",
              "      <td>29.0</td>\n",
              "      <td>43.0</td>\n",
              "    </tr>\n",
              "    <tr>\n",
              "      <th>5</th>\n",
              "      <td>0</td>\n",
              "      <td>False</td>\n",
              "      <td>0.000000</td>\n",
              "      <td>0.000</td>\n",
              "      <td>0.515000</td>\n",
              "      <td>0.473750</td>\n",
              "      <td>0.435000</td>\n",
              "      <td>0.250000</td>\n",
              "      <td>1.250000</td>\n",
              "      <td>0.6250</td>\n",
              "      <td>...</td>\n",
              "      <td>2</td>\n",
              "      <td>2</td>\n",
              "      <td>2</td>\n",
              "      <td>0</td>\n",
              "      <td>Orthodox</td>\n",
              "      <td>182.88</td>\n",
              "      <td>190.50</td>\n",
              "      <td>155.0</td>\n",
              "      <td>27.0</td>\n",
              "      <td>41.0</td>\n",
              "    </tr>\n",
              "    <tr>\n",
              "      <th>6</th>\n",
              "      <td>0</td>\n",
              "      <td>False</td>\n",
              "      <td>0.046875</td>\n",
              "      <td>0.125</td>\n",
              "      <td>0.459277</td>\n",
              "      <td>0.404687</td>\n",
              "      <td>0.322188</td>\n",
              "      <td>0.068867</td>\n",
              "      <td>0.189453</td>\n",
              "      <td>0.0000</td>\n",
              "      <td>...</td>\n",
              "      <td>1</td>\n",
              "      <td>3</td>\n",
              "      <td>0</td>\n",
              "      <td>0</td>\n",
              "      <td>Orthodox</td>\n",
              "      <td>182.88</td>\n",
              "      <td>180.34</td>\n",
              "      <td>170.0</td>\n",
              "      <td>35.0</td>\n",
              "      <td>31.0</td>\n",
              "    </tr>\n",
              "  </tbody>\n",
              "</table>\n",
              "<p>5 rows × 138 columns</p>\n",
              "</div>\n",
              "      <button class=\"colab-df-convert\" onclick=\"convertToInteractive('df-48581ca8-2511-493b-b482-7087e50987ca')\"\n",
              "              title=\"Convert this dataframe to an interactive table.\"\n",
              "              style=\"display:none;\">\n",
              "        \n",
              "  <svg xmlns=\"http://www.w3.org/2000/svg\" height=\"24px\"viewBox=\"0 0 24 24\"\n",
              "       width=\"24px\">\n",
              "    <path d=\"M0 0h24v24H0V0z\" fill=\"none\"/>\n",
              "    <path d=\"M18.56 5.44l.94 2.06.94-2.06 2.06-.94-2.06-.94-.94-2.06-.94 2.06-2.06.94zm-11 1L8.5 8.5l.94-2.06 2.06-.94-2.06-.94L8.5 2.5l-.94 2.06-2.06.94zm10 10l.94 2.06.94-2.06 2.06-.94-2.06-.94-.94-2.06-.94 2.06-2.06.94z\"/><path d=\"M17.41 7.96l-1.37-1.37c-.4-.4-.92-.59-1.43-.59-.52 0-1.04.2-1.43.59L10.3 9.45l-7.72 7.72c-.78.78-.78 2.05 0 2.83L4 21.41c.39.39.9.59 1.41.59.51 0 1.02-.2 1.41-.59l7.78-7.78 2.81-2.81c.8-.78.8-2.07 0-2.86zM5.41 20L4 18.59l7.72-7.72 1.47 1.35L5.41 20z\"/>\n",
              "  </svg>\n",
              "      </button>\n",
              "      \n",
              "  <style>\n",
              "    .colab-df-container {\n",
              "      display:flex;\n",
              "      flex-wrap:wrap;\n",
              "      gap: 12px;\n",
              "    }\n",
              "\n",
              "    .colab-df-convert {\n",
              "      background-color: #E8F0FE;\n",
              "      border: none;\n",
              "      border-radius: 50%;\n",
              "      cursor: pointer;\n",
              "      display: none;\n",
              "      fill: #1967D2;\n",
              "      height: 32px;\n",
              "      padding: 0 0 0 0;\n",
              "      width: 32px;\n",
              "    }\n",
              "\n",
              "    .colab-df-convert:hover {\n",
              "      background-color: #E2EBFA;\n",
              "      box-shadow: 0px 1px 2px rgba(60, 64, 67, 0.3), 0px 1px 3px 1px rgba(60, 64, 67, 0.15);\n",
              "      fill: #174EA6;\n",
              "    }\n",
              "\n",
              "    [theme=dark] .colab-df-convert {\n",
              "      background-color: #3B4455;\n",
              "      fill: #D2E3FC;\n",
              "    }\n",
              "\n",
              "    [theme=dark] .colab-df-convert:hover {\n",
              "      background-color: #434B5C;\n",
              "      box-shadow: 0px 1px 3px 1px rgba(0, 0, 0, 0.15);\n",
              "      filter: drop-shadow(0px 1px 2px rgba(0, 0, 0, 0.3));\n",
              "      fill: #FFFFFF;\n",
              "    }\n",
              "  </style>\n",
              "\n",
              "      <script>\n",
              "        const buttonEl =\n",
              "          document.querySelector('#df-48581ca8-2511-493b-b482-7087e50987ca button.colab-df-convert');\n",
              "        buttonEl.style.display =\n",
              "          google.colab.kernel.accessAllowed ? 'block' : 'none';\n",
              "\n",
              "        async function convertToInteractive(key) {\n",
              "          const element = document.querySelector('#df-48581ca8-2511-493b-b482-7087e50987ca');\n",
              "          const dataTable =\n",
              "            await google.colab.kernel.invokeFunction('convertToInteractive',\n",
              "                                                     [key], {});\n",
              "          if (!dataTable) return;\n",
              "\n",
              "          const docLinkHtml = 'Like what you see? Visit the ' +\n",
              "            '<a target=\"_blank\" href=https://colab.research.google.com/notebooks/data_table.ipynb>data table notebook</a>'\n",
              "            + ' to learn more about interactive tables.';\n",
              "          element.innerHTML = '';\n",
              "          dataTable['output_type'] = 'display_data';\n",
              "          await google.colab.output.renderOutput(dataTable, element);\n",
              "          const docLink = document.createElement('div');\n",
              "          docLink.innerHTML = docLinkHtml;\n",
              "          element.appendChild(docLink);\n",
              "        }\n",
              "      </script>\n",
              "    </div>\n",
              "  </div>\n",
              "  "
            ]
          },
          "metadata": {},
          "execution_count": 50
        }
      ],
      "source": [
        "from sklearn.preprocessing import LabelEncoder\n",
        "\n",
        "le = LabelEncoder()\n",
        "winner_encoder=le.fit_transform(df['Winner'])\n",
        "df[\"Winner\"] = winner_encoder\n",
        "# Red ==2\n",
        "# Blue ==0\n",
        "# Draw ==1\n",
        "df.head()"
      ]
    },
    {
      "cell_type": "code",
      "execution_count": 51,
      "metadata": {
        "id": "sVKp5E3Cn_yP",
        "colab": {
          "base_uri": "https://localhost:8080/"
        },
        "outputId": "56c9a8e7-8740-4de6-9437-16c5856e3df3"
      },
      "outputs": [
        {
          "output_type": "execute_result",
          "data": {
            "text/plain": [
              "array(['Orthodox', 'Switch', 'Southpaw', 'Open Stance'], dtype=object)"
            ]
          },
          "metadata": {},
          "execution_count": 51
        }
      ],
      "source": [
        "rstance_encoder=le.fit_transform(df['R_Stance'])\n",
        "bstance_encoder=le.fit_transform(df['B_Stance'])\n",
        "df[\"B_Stance\"].unique()\n",
        "# Red ==2\n",
        "# Blue ==0\n",
        "# Draw ==1"
      ]
    },
    {
      "cell_type": "code",
      "execution_count": 52,
      "metadata": {
        "id": "8U1ceOIComIh",
        "colab": {
          "base_uri": "https://localhost:8080/"
        },
        "outputId": "a26ffd65-cf55-42cb-f4ee-9b061758c49a"
      },
      "outputs": [
        {
          "output_type": "execute_result",
          "data": {
            "text/plain": [
              "array([1, 2, 3, 0])"
            ]
          },
          "metadata": {},
          "execution_count": 52
        }
      ],
      "source": [
        "df[\"R_Stance\"] = rstance_encoder\n",
        "df[\"B_Stance\"] = bstance_encoder\n",
        "#Orthodox == 1\n",
        "#Southpaw == 0\n",
        "df[\"R_Stance\"].unique()"
      ]
    },
    {
      "cell_type": "code",
      "execution_count": 53,
      "metadata": {
        "id": "uOvz4wN7r9-T",
        "colab": {
          "base_uri": "https://localhost:8080/"
        },
        "outputId": "946b655f-92e9-43af-f8f1-0679e97bb1a5"
      },
      "outputs": [
        {
          "output_type": "execute_result",
          "data": {
            "text/plain": [
              "0       False\n",
              "1       False\n",
              "4       False\n",
              "5       False\n",
              "6       False\n",
              "        ...  \n",
              "5759     True\n",
              "5767    False\n",
              "5799     True\n",
              "5840    False\n",
              "5884    False\n",
              "Name: title_bout, Length: 3914, dtype: bool"
            ]
          },
          "metadata": {},
          "execution_count": 53
        }
      ],
      "source": [
        "titlebout_encoder=le.fit_transform(df['title_bout'])\n",
        "df[\"title_bout\"]"
      ]
    },
    {
      "cell_type": "code",
      "execution_count": 54,
      "metadata": {
        "id": "2dEOiyu3sXv6",
        "colab": {
          "base_uri": "https://localhost:8080/"
        },
        "outputId": "f2a82674-02dd-46b7-ab9e-11465bb96ea4"
      },
      "outputs": [
        {
          "output_type": "execute_result",
          "data": {
            "text/plain": [
              "0       0\n",
              "1       0\n",
              "4       0\n",
              "5       0\n",
              "6       0\n",
              "       ..\n",
              "5759    1\n",
              "5767    0\n",
              "5799    1\n",
              "5840    0\n",
              "5884    0\n",
              "Name: title_bout, Length: 3914, dtype: int64"
            ]
          },
          "metadata": {},
          "execution_count": 54
        }
      ],
      "source": [
        "df[\"title_bout\"] = titlebout_encoder\n",
        "df[\"title_bout\"]\n",
        "#False == 0\n",
        "#True == 1\n"
      ]
    },
    {
      "cell_type": "code",
      "execution_count": 55,
      "metadata": {
        "id": "43xM_Nv2buyZ"
      },
      "outputs": [],
      "source": [
        "df = df[df[\"Winner\"]!=1]\n",
        "df= df.dropna()\n"
      ]
    },
    {
      "cell_type": "code",
      "execution_count": 56,
      "metadata": {
        "id": "5CO7Kh3hTv0y",
        "colab": {
          "base_uri": "https://localhost:8080/"
        },
        "outputId": "1465adc3-f133-42e1-8163-adcbf1c1edb6"
      },
      "outputs": [
        {
          "output_type": "stream",
          "name": "stdout",
          "text": [
            "Winner               0\n",
            "title_bout           0\n",
            "B_avg_KD             0\n",
            "B_avg_opp_KD         0\n",
            "B_avg_SIG_STR_pct    0\n",
            "                    ..\n",
            "R_Height_cms         0\n",
            "R_Reach_cms          0\n",
            "R_Weight_lbs         0\n",
            "B_age                0\n",
            "R_age                0\n",
            "Length: 138, dtype: int64\n"
          ]
        }
      ],
      "source": [
        "print(df[df[\"Winner\"]==1].count())"
      ]
    },
    {
      "cell_type": "code",
      "execution_count": 57,
      "metadata": {
        "id": "0xj_bCqsU0ya",
        "colab": {
          "base_uri": "https://localhost:8080/"
        },
        "outputId": "292c5198-6c28-49c3-f6ed-dc5143f9181d"
      },
      "outputs": [
        {
          "output_type": "execute_result",
          "data": {
            "text/plain": [
              "1    2892\n",
              "2     831\n",
              "3     112\n",
              "0      10\n",
              "Name: R_Stance, dtype: int64"
            ]
          },
          "metadata": {},
          "execution_count": 57
        }
      ],
      "source": [
        "df[\"R_Stance\"].value_counts()"
      ]
    },
    {
      "cell_type": "code",
      "execution_count": 58,
      "metadata": {
        "id": "OzBjKRDHXUpk",
        "colab": {
          "base_uri": "https://localhost:8080/"
        },
        "outputId": "6ee52141-a85d-4ad5-edb1-6616d78386ce"
      },
      "outputs": [
        {
          "output_type": "execute_result",
          "data": {
            "text/plain": [
              "210.82"
            ]
          },
          "metadata": {},
          "execution_count": 58
        }
      ],
      "source": [
        "df[\"B_Height_cms\"].max()"
      ]
    },
    {
      "cell_type": "code",
      "execution_count": 59,
      "metadata": {
        "id": "9XnPLaIiOImR",
        "colab": {
          "base_uri": "https://localhost:8080/",
          "height": 621
        },
        "outputId": "ddf5447c-fa30-45c7-8fa1-18e40ad639e1"
      },
      "outputs": [
        {
          "output_type": "display_data",
          "data": {
            "text/plain": [
              "<Figure size 720x720 with 1 Axes>"
            ],
            "image/png": "[encoded data removed]"
          },
          "metadata": {
            "needs_background": "light"
          }
        }
      ],
      "source": [
        "from IPython.core.pylabtools import figsize\n",
        "import matplotlib.pyplot as plt\n",
        "df.hist(column='Winner', color = \"black\")\n",
        "plt.xlabel(\"Winner Code\",fontweight=\"bold\")\n",
        "plt.ylabel(\"Count\",fontweight=\"bold\")\n",
        "figsize(10,10)"
      ]
    },
    {
      "cell_type": "code",
      "execution_count": 60,
      "metadata": {
        "id": "7-DRTSTEUZgA",
        "colab": {
          "base_uri": "https://localhost:8080/"
        },
        "outputId": "37fa9930-c015-45e4-eb56-92d1d1580d7c"
      },
      "outputs": [
        {
          "output_type": "execute_result",
          "data": {
            "text/plain": [
              "1    2890\n",
              "2     805\n",
              "3     144\n",
              "0       6\n",
              "Name: Stance, dtype: int64"
            ]
          },
          "metadata": {},
          "execution_count": 60
        }
      ],
      "source": [
        "stance = df['R_Stance'].tolist()\n",
        "stance1 = df['B_Stance'].tolist()\n",
        "for i in stance1:\n",
        "  stance.append(i)\n",
        "df[\"Stance\"] = pd.DataFrame (stance, columns = ['Stance'])\n",
        "df[\"Stance\"].value_counts()"
      ]
    },
    {
      "cell_type": "code",
      "execution_count": 61,
      "metadata": {
        "id": "GN94sZM0d2Ia",
        "colab": {
          "base_uri": "https://localhost:8080/"
        },
        "outputId": "52eddc8c-3349-4763-f8ba-2ee00be6b8e5"
      },
      "outputs": [
        {
          "output_type": "execute_result",
          "data": {
            "text/plain": [
              "19.0"
            ]
          },
          "metadata": {},
          "execution_count": 61
        }
      ],
      "source": [
        "age = df[\"R_age\"].to_list()\n",
        "b_age = df[\"B_age\"].to_list()\n",
        "for i in b_age:\n",
        "  age.append(i)\n",
        "df[\"Age\"] = pd.DataFrame(age, columns = ['Age'])\n",
        "df.Age.min()"
      ]
    },
    {
      "cell_type": "code",
      "source": [
        "df.Age.plot(kind = \"kde\", color = \"black\")"
      ],
      "metadata": {
        "colab": {
          "base_uri": "https://localhost:8080/",
          "height": 282
        },
        "id": "RTYxDfxhsfi2",
        "outputId": "0dadf1e9-29df-46bf-86b5-791dda5214d5"
      },
      "execution_count": 90,
      "outputs": [
        {
          "output_type": "execute_result",
          "data": {
            "text/plain": [
              "<matplotlib.axes._subplots.AxesSubplot at 0x7f098df261d0>"
            ]
          },
          "metadata": {},
          "execution_count": 90
        },
        {
          "output_type": "display_data",
          "data": {
            "text/plain": [
              "<Figure size 432x288 with 1 Axes>"
            ],
            "image/png": "[encoded data removed]"
          },
          "metadata": {
            "needs_background": "light"
          }
        }
      ]
    },
    {
      "cell_type": "code",
      "source": [
        "age = df[\"R_Height_cms\"].to_list()\n",
        "b_age = df[\"B_Height_cms\"].to_list()\n",
        "for i in b_age:\n",
        "  age.append(i)\n",
        "df[\"Height\"] = pd.DataFrame(age, columns = ['Height'])\n",
        "df.Age.min()"
      ],
      "metadata": {
        "colab": {
          "base_uri": "https://localhost:8080/"
        },
        "id": "qgfRnzcxstc1",
        "outputId": "92ce5ef8-53d7-44a1-a45f-2810cf2f613f"
      },
      "execution_count": 91,
      "outputs": [
        {
          "output_type": "execute_result",
          "data": {
            "text/plain": [
              "19.0"
            ]
          },
          "metadata": {},
          "execution_count": 91
        }
      ]
    },
    {
      "cell_type": "code",
      "source": [
        "df.Height.plot(kind = \"kde\", color = \"black\")"
      ],
      "metadata": {
        "colab": {
          "base_uri": "https://localhost:8080/",
          "height": 282
        },
        "id": "GcnDMfPFs2QE",
        "outputId": "deacc132-feff-41be-90ba-7abe44931c19"
      },
      "execution_count": 92,
      "outputs": [
        {
          "output_type": "execute_result",
          "data": {
            "text/plain": [
              "<matplotlib.axes._subplots.AxesSubplot at 0x7f09a6a25d90>"
            ]
          },
          "metadata": {},
          "execution_count": 92
        },
        {
          "output_type": "display_data",
          "data": {
            "text/plain": [
              "<Figure size 432x288 with 1 Axes>"
            ],
            "image/png": "[encoded data removed]"
          },
          "metadata": {
            "needs_background": "light"
          }
        }
      ]
    },
    {
      "cell_type": "code",
      "source": [
        "age = df[\"R_Reach_cms\"].to_list()\n",
        "b_age = df[\"B_Reach_cms\"].to_list()\n",
        "for i in b_age:\n",
        "  age.append(i)\n",
        "df[\"Reach\"] = pd.DataFrame(age, columns = ['Reach'])\n",
        "df.Age.min()\n",
        "df.R_Reach_cms.plot(kind = \"kde\", color = \"black\")"
      ],
      "metadata": {
        "colab": {
          "base_uri": "https://localhost:8080/",
          "height": 282
        },
        "id": "Sa4OfkaTtA0_",
        "outputId": "7f103ce0-3ab7-4825-a6f4-6f72f48859d1"
      },
      "execution_count": 94,
      "outputs": [
        {
          "output_type": "execute_result",
          "data": {
            "text/plain": [
              "<matplotlib.axes._subplots.AxesSubplot at 0x7f098de38990>"
            ]
          },
          "metadata": {},
          "execution_count": 94
        },
        {
          "output_type": "display_data",
          "data": {
            "text/plain": [
              "<Figure size 432x288 with 1 Axes>"
            ],
            "image/png": "[encoded data removed]"
          },
          "metadata": {
            "needs_background": "light"
          }
        }
      ]
    },
    {
      "cell_type": "code",
      "execution_count": 62,
      "metadata": {
        "id": "phHvGAYagpXt",
        "colab": {
          "base_uri": "https://localhost:8080/",
          "height": 602
        },
        "outputId": "7b610b8f-5dac-4b7f-f7f5-1636427cabb5"
      },
      "outputs": [
        {
          "output_type": "display_data",
          "data": {
            "text/plain": [
              "<Figure size 720x720 with 1 Axes>"
            ],
            "image/png": "[encoded data removed]"
          },
          "metadata": {
            "needs_background": "light"
          }
        }
      ],
      "source": [
        "from IPython.core.pylabtools import figsize\n",
        "import matplotlib.pyplot as plt\n",
        "df[\"Stance\"].value_counts().plot(kind='bar',color = \"black\")\n",
        "plt.xlabel(\"Stances\",fontweight=\"bold\")\n",
        "plt.ylabel(\"Count\",fontweight=\"bold\")\n",
        "\n",
        "\n",
        "figsize(10,10)"
      ]
    },
    {
      "cell_type": "code",
      "source": [
        "df.R_Reach_cms.min()"
      ],
      "metadata": {
        "id": "6GU0vKYNHqGM",
        "colab": {
          "base_uri": "https://localhost:8080/"
        },
        "outputId": "6fbc9355-7843-4ac1-9463-99f940dac1a2"
      },
      "execution_count": 63,
      "outputs": [
        {
          "output_type": "execute_result",
          "data": {
            "text/plain": [
              "152.4"
            ]
          },
          "metadata": {},
          "execution_count": 63
        }
      ]
    },
    {
      "cell_type": "code",
      "source": [
        "reach = df['R_Height_cms'].tolist()\n",
        "stance1 = df['B_Height_cms'].tolist()\n",
        "for i in stance1:\n",
        "  reach.append(i)\n",
        "df[\"Height\"] = pd.DataFrame (reach, columns = ['Height'])\n",
        "ax = df.query(\"Winner ==0\").groupby(\"R_Height_cms\").R_Height_cms.count().plot(kind = \"kde\", color = \"black\")\n",
        "df.query(\"Winner==2\").groupby(\"B_Height_cms\").B_Height_cms.count().plot(ax = ax, kind = \"kde\", color = \"orange\")\n",
        "plt.xlabel(\"Height cms\")\n",
        "plt.title(\"R_Fighter vs B_Fighter Height Distribution\")\n",
        "plt.legend()"
      ],
      "metadata": {
        "colab": {
          "base_uri": "https://localhost:8080/",
          "height": 638
        },
        "id": "9Gc5KaaRqh9B",
        "outputId": "35c66182-8d57-44c2-99e7-7e831b23472d"
      },
      "execution_count": 64,
      "outputs": [
        {
          "output_type": "execute_result",
          "data": {
            "text/plain": [
              "<matplotlib.legend.Legend at 0x7f09a8d31f50>"
            ]
          },
          "metadata": {},
          "execution_count": 64
        },
        {
          "output_type": "display_data",
          "data": {
            "text/plain": [
              "<Figure size 720x720 with 1 Axes>"
            ],
            "image/png": "[encoded data removed]"
          },
          "metadata": {
            "needs_background": "light"
          }
        }
      ]
    },
    {
      "cell_type": "code",
      "source": [
        "ax = df.query(\"Winner ==0\").groupby(\"R_age\").R_age.count().plot(kind = \"bar\", color = \"orange\")\n",
        "df.query(\"Winner==2\").groupby(\"B_age\").B_age.count().plot(ax = ax, kind = \"bar\", color = \"black\")\n",
        "plt.xlabel(\"Age\")\n",
        "plt.legend()"
      ],
      "metadata": {
        "colab": {
          "base_uri": "https://localhost:8080/",
          "height": 309
        },
        "id": "HqPZobdNtzmO",
        "outputId": "4537a3df-e605-462b-de48-9fe4eace0e42"
      },
      "execution_count": 98,
      "outputs": [
        {
          "output_type": "execute_result",
          "data": {
            "text/plain": [
              "<matplotlib.legend.Legend at 0x7f098db17e90>"
            ]
          },
          "metadata": {},
          "execution_count": 98
        },
        {
          "output_type": "display_data",
          "data": {
            "text/plain": [
              "<Figure size 432x288 with 1 Axes>"
            ],
            "image/png": "[encoded data removed]"
          },
          "metadata": {
            "needs_background": "light"
          }
        }
      ]
    },
    {
      "cell_type": "code",
      "source": [
        "reach = df['R_Reach_cms'].tolist()\n",
        "stance1 = df['B_Reach_cms'].tolist()\n",
        "for i in stance1:\n",
        "  reach.append(i)\n",
        "df[\"Reach\"] = pd.DataFrame (reach, columns = ['Reach'])\n",
        "ax = df.query(\"Winner ==0\").groupby(\"R_Reach_cms\").R_Reach_cms.count().plot(kind = \"kde\", color = \"black\")\n",
        "df.query(\"Winner==2\").groupby(\"B_Reach_cms\").B_Reach_cms.count().plot(ax = ax, kind = \"kde\", color = \"orange\")\n",
        "plt.xlabel(\"Reach cms\")\n",
        "plt.title(\"R_Fighter vs B_Fighter Reach Distribution\")\n",
        "plt.legend()"
      ],
      "metadata": {
        "colab": {
          "base_uri": "https://localhost:8080/",
          "height": 638
        },
        "id": "0YETg8BZqzjJ",
        "outputId": "78b2cf29-6715-4dfd-dad3-b7b3d5f895da"
      },
      "execution_count": 65,
      "outputs": [
        {
          "output_type": "execute_result",
          "data": {
            "text/plain": [
              "<matplotlib.legend.Legend at 0x7f09a6b23d10>"
            ]
          },
          "metadata": {},
          "execution_count": 65
        },
        {
          "output_type": "display_data",
          "data": {
            "text/plain": [
              "<Figure size 720x720 with 1 Axes>"
            ],
            "image/png": "[encoded data removed]"
          },
          "metadata": {
            "needs_background": "light"
          }
        }
      ]
    },
    {
      "cell_type": "code",
      "execution_count": 66,
      "metadata": {
        "id": "Ia1LIvDMZjpz",
        "colab": {
          "base_uri": "https://localhost:8080/"
        },
        "outputId": "ec1989b8-2d30-41c0-c595-e388f0795ec9"
      },
      "outputs": [
        {
          "output_type": "execute_result",
          "data": {
            "text/plain": [
              "2    1921\n",
              "0    1921\n",
              "Name: Winner, dtype: int64"
            ]
          },
          "metadata": {},
          "execution_count": 66
        }
      ],
      "source": [
        "from sklearn.utils import resample\n",
        "\n",
        "# Separate input features and target\n",
        "y = df.Winner\n",
        "X = df.drop('Winner', axis=1)\n",
        "\n",
        "# setting up testing and training sets\n",
        "X_train, X_test, y_train, y_test = train_test_split(X, y, test_size=0.20, random_state=27)\n",
        "\n",
        "# concatenate our training data back together\n",
        "X = pd.concat([X_train, y_train], axis=1)\n",
        "\n",
        "# separate minority and majority classes\n",
        "R_Win = X[X.Winner==0]\n",
        "R_Lose = X[X.Winner==2]\n",
        "\n",
        "# upsample minority\n",
        "Winner_upsampled = resample(R_Win,\n",
        "                          replace=True, # sample with replacement\n",
        "                          n_samples=len(R_Lose), # match number in majority class\n",
        "                          random_state=27) # reproducible results\n",
        "\n",
        "# combine majority and upsampled minority\n",
        "upsampled = pd.concat([R_Lose, Winner_upsampled])\n",
        "\n",
        "# check new class counts\n",
        "upsampled.Winner.value_counts()"
      ]
    },
    {
      "cell_type": "code",
      "execution_count": 67,
      "metadata": {
        "id": "tDMXGQiHJ2lX"
      },
      "outputs": [],
      "source": [
        "y_train = upsampled.Winner\n",
        "X_train = upsampled.drop('Winner', axis=1)\n",
        "\n",
        "upsampled = LogisticRegression(solver='liblinear').fit(X_train, y_train)\n",
        "\n",
        "upsampled_pred = upsampled.predict(X_test)"
      ]
    },
    {
      "cell_type": "code",
      "execution_count": 68,
      "metadata": {
        "id": "vWIn1edyZk9H"
      },
      "outputs": [],
      "source": [
        "scaler = preprocessing.StandardScaler().fit(X_train)\n",
        "X_train_scaled = scaler.transform(X_train)"
      ]
    },
    {
      "cell_type": "code",
      "execution_count": 69,
      "metadata": {
        "id": "2yqMfi-SZw2F"
      },
      "outputs": [],
      "source": [
        "model = LogisticRegression()"
      ]
    },
    {
      "cell_type": "code",
      "execution_count": 70,
      "metadata": {
        "id": "8D2llHgnZ0Pu",
        "colab": {
          "base_uri": "https://localhost:8080/"
        },
        "outputId": "1cb1f6fe-fcd6-4ab5-8827-b95e9916cd47"
      },
      "outputs": [
        {
          "output_type": "stream",
          "name": "stderr",
          "text": [
            "/usr/local/lib/python3.7/dist-packages/sklearn/linear_model/_logistic.py:818: ConvergenceWarning: lbfgs failed to converge (status=1):\n",
            "STOP: TOTAL NO. of ITERATIONS REACHED LIMIT.\n",
            "\n",
            "Increase the number of iterations (max_iter) or scale the data as shown in:\n",
            "    https://scikit-learn.org/stable/modules/preprocessing.html\n",
            "Please also refer to the documentation for alternative solver options:\n",
            "    https://scikit-learn.org/stable/modules/linear_model.html#logistic-regression\n",
            "  extra_warning_msg=_LOGISTIC_SOLVER_CONVERGENCE_MSG,\n"
          ]
        },
        {
          "output_type": "execute_result",
          "data": {
            "text/plain": [
              "LogisticRegression()"
            ]
          },
          "metadata": {},
          "execution_count": 70
        }
      ],
      "source": [
        "model.fit(X_train_scaled, y_train)"
      ]
    },
    {
      "cell_type": "code",
      "execution_count": 71,
      "metadata": {
        "id": "s9ljclCzZ2cG"
      },
      "outputs": [],
      "source": [
        "X_test_scaled = scaler.transform(X_test)\n",
        "y_pred = model.predict(X_test_scaled)"
      ]
    },
    {
      "cell_type": "code",
      "execution_count": 72,
      "metadata": {
        "id": "MQTlDkRZcMGp",
        "colab": {
          "base_uri": "https://localhost:8080/"
        },
        "outputId": "5513900e-761b-4173-83bd-d5a3afbb7e69"
      },
      "outputs": [
        {
          "output_type": "stream",
          "name": "stderr",
          "text": [
            "/usr/local/lib/python3.7/dist-packages/sklearn/base.py:444: UserWarning: X has feature names, but LogisticRegression was fitted without feature names\n",
            "  f\"X has feature names, but {self.__class__.__name__} was fitted without\"\n"
          ]
        }
      ],
      "source": [
        "predictions = model.predict(X_test)"
      ]
    },
    {
      "cell_type": "code",
      "execution_count": 73,
      "metadata": {
        "id": "WQOyFCUvZ4jX",
        "colab": {
          "base_uri": "https://localhost:8080/"
        },
        "outputId": "c34c93c7-4676-47c8-ac1f-9f9f0d2537e1"
      },
      "outputs": [
        {
          "output_type": "stream",
          "name": "stdout",
          "text": [
            "The Accuracy for Training Set is 67.38677771993753%\n"
          ]
        }
      ],
      "source": [
        "train_acc = model.score(X_train_scaled, y_train)\n",
        "print(\"The Accuracy for Training Set is {}\".format(train_acc*100) +\"%\")"
      ]
    },
    {
      "cell_type": "code",
      "execution_count": 74,
      "metadata": {
        "id": "6oZPV3MpZ6wQ",
        "colab": {
          "base_uri": "https://localhost:8080/"
        },
        "outputId": "fb7dc7e1-3eca-4ed8-aff5-f29fdc336dfb"
      },
      "outputs": [
        {
          "output_type": "stream",
          "name": "stdout",
          "text": [
            "The Accuracy for Test Set is 61.378413524057216%\n"
          ]
        }
      ],
      "source": [
        "\n",
        "test_acc = accuracy_score(y_test, upsampled_pred)\n",
        "print(\"The Accuracy for Test Set is {}\".format(test_acc*100)+\"%\")"
      ]
    },
    {
      "cell_type": "code",
      "execution_count": 75,
      "metadata": {
        "id": "8RzRL0I5Z94W",
        "colab": {
          "base_uri": "https://localhost:8080/"
        },
        "outputId": "a7e0c0cc-a314-4df5-c3ea-d0eda20f42a5"
      },
      "outputs": [
        {
          "output_type": "stream",
          "name": "stdout",
          "text": [
            "              precision    recall  f1-score   support\n",
            "\n",
            "           0       0.47      0.59      0.53       279\n",
            "           2       0.73      0.63      0.67       490\n",
            "\n",
            "    accuracy                           0.61       769\n",
            "   macro avg       0.60      0.61      0.60       769\n",
            "weighted avg       0.64      0.61      0.62       769\n",
            "\n"
          ]
        }
      ],
      "source": [
        "print(classification_report(y_test, upsampled_pred))"
      ]
    },
    {
      "cell_type": "markdown",
      "metadata": {
        "id": "xTpMmyeVCFTJ"
      },
      "source": [
        "# **Decision Tree**"
      ]
    },
    {
      "cell_type": "code",
      "execution_count": 76,
      "metadata": {
        "id": "Q2DOZF4VaIsI"
      },
      "outputs": [],
      "source": [
        "import pandas\n",
        "from sklearn import tree\n",
        "import pydotplus\n",
        "from sklearn.tree import DecisionTreeClassifier\n",
        "import matplotlib.pyplot as plt\n",
        "import matplotlib.image as pltimg"
      ]
    },
    {
      "cell_type": "code",
      "execution_count": 77,
      "metadata": {
        "id": "xxOHeMX4aKvo",
        "colab": {
          "base_uri": "https://localhost:8080/"
        },
        "outputId": "2ab20f75-2bb2-4c42-c9af-0a220d2a5f31"
      },
      "outputs": [
        {
          "output_type": "stream",
          "name": "stdout",
          "text": [
            "Index(['title_bout', 'B_avg_KD', 'B_avg_opp_KD', 'B_avg_SIG_STR_pct',\n",
            "       'B_avg_opp_SIG_STR_pct', 'B_avg_TD_pct', 'B_avg_opp_TD_pct',\n",
            "       'B_avg_SUB_ATT', 'B_avg_opp_SUB_ATT', 'B_avg_REV',\n",
            "       ...\n",
            "       'R_Stance', 'R_Height_cms', 'R_Reach_cms', 'R_Weight_lbs', 'B_age',\n",
            "       'R_age', 'Stance', 'Age', 'Height', 'Reach'],\n",
            "      dtype='object', length=141)\n"
          ]
        }
      ],
      "source": [
        "features = df.columns\n",
        "features = features.drop(\"Winner\")\n",
        "print(features)"
      ]
    },
    {
      "cell_type": "code",
      "execution_count": 78,
      "metadata": {
        "id": "C9fDemlnaNr-",
        "colab": {
          "base_uri": "https://localhost:8080/",
          "height": 154
        },
        "outputId": "c9bb75d5-f289-4306-ba53-b97eb963e96f"
      },
      "outputs": [
        {
          "output_type": "display_data",
          "data": {
            "text/plain": [
              "<Figure size 720x720 with 1 Axes>"
            ],
            "image/png": "[encoded data removed]"
          },
          "metadata": {
            "needs_background": "light"
          }
        }
      ],
      "source": [
        "dtree = DecisionTreeClassifier()\n",
        "dtree = dtree.fit(X_train, y_train)\n",
        "data = tree.export_graphviz(dtree, out_file=None, feature_names=features)\n",
        "graph = pydotplus.graph_from_dot_data(data)\n",
        "graph.write_png('mydecisiontree.png')\n",
        "\n",
        "img=pltimg.imread('mydecisiontree.png')\n",
        "imgplot = plt.imshow(img)\n",
        "plt.show()"
      ]
    },
    {
      "cell_type": "code",
      "execution_count": 79,
      "metadata": {
        "id": "v0zRELA8X_VU",
        "colab": {
          "base_uri": "https://localhost:8080/"
        },
        "outputId": "570beeb8-bdbe-4a2b-f461-a3edbf2b6524"
      },
      "outputs": [
        {
          "output_type": "execute_result",
          "data": {
            "text/plain": [
              "0.5565669700910273"
            ]
          },
          "metadata": {},
          "execution_count": 79
        }
      ],
      "source": [
        "res_pred = dtree.predict(X_test)\n",
        "score = accuracy_score(y_test, res_pred)\n",
        "score\n"
      ]
    },
    {
      "cell_type": "code",
      "execution_count": 80,
      "metadata": {
        "id": "EgDk6zlsVS4X",
        "colab": {
          "base_uri": "https://localhost:8080/"
        },
        "outputId": "073f253f-594e-4f3a-93fb-54352bc43185"
      },
      "outputs": [
        {
          "output_type": "stream",
          "name": "stdout",
          "text": [
            "              precision    recall  f1-score   support\n",
            "\n",
            "           0       0.38      0.36      0.37       279\n",
            "           2       0.65      0.67      0.66       490\n",
            "\n",
            "    accuracy                           0.56       769\n",
            "   macro avg       0.51      0.51      0.51       769\n",
            "weighted avg       0.55      0.56      0.55       769\n",
            "\n"
          ]
        }
      ],
      "source": [
        "print(classification_report(y_test, res_pred))"
      ]
    },
    {
      "cell_type": "markdown",
      "metadata": {
        "id": "SAJTLNe5aU3D"
      },
      "source": [
        "# **Feature Selection**"
      ]
    },
    {
      "cell_type": "code",
      "execution_count": 81,
      "metadata": {
        "id": "fktdw9tSaY-M",
        "colab": {
          "base_uri": "https://localhost:8080/"
        },
        "outputId": "af45d214-0cc3-44aa-972f-3a795ad0fb80"
      },
      "outputs": [
        {
          "output_type": "stream",
          "name": "stderr",
          "text": [
            "/usr/local/lib/python3.7/dist-packages/statsmodels/tools/_testing.py:19: FutureWarning: pandas.util.testing is deprecated. Use the functions in the public API at pandas.testing instead.\n",
            "  import pandas.util.testing as tm\n"
          ]
        }
      ],
      "source": [
        "%matplotlib inline\n",
        "import pandas as pd\n",
        "import pandas.testing as tm\n",
        "import numpy as np\n",
        "import itertools\n",
        "import time\n",
        "import statsmodels.api as sm\n",
        "import matplotlib.pyplot as plt"
      ]
    },
    {
      "cell_type": "code",
      "execution_count": 82,
      "metadata": {
        "id": "SHPienE7ANGU"
      },
      "outputs": [],
      "source": [
        "from sklearn.feature_selection import SelectKBest\n",
        "from sklearn.feature_selection import chi2"
      ]
    },
    {
      "cell_type": "code",
      "execution_count": 83,
      "metadata": {
        "id": "KyJUq33mAfzQ",
        "colab": {
          "base_uri": "https://localhost:8080/"
        },
        "outputId": "a6386965-8b1d-4238-9859-2dddd04d8b33"
      },
      "outputs": [
        {
          "output_type": "execute_result",
          "data": {
            "text/plain": [
              "['B_avg_SIG_STR_att',\n",
              " 'B_avg_SIG_STR_landed',\n",
              " 'B_avg_HEAD_landed',\n",
              " 'B_avg_BODY_att',\n",
              " 'B_avg_DISTANCE_att',\n",
              " 'B_avg_DISTANCE_landed',\n",
              " 'R_avg_opp_SIG_STR_att',\n",
              " 'R_avg_opp_SIG_STR_landed',\n",
              " 'R_avg_opp_HEAD_landed',\n",
              " 'R_avg_opp_BODY_att',\n",
              " 'R_avg_opp_BODY_landed',\n",
              " 'R_avg_opp_DISTANCE_landed',\n",
              " 'R_avg_GROUND_att',\n",
              " 'R_losses',\n",
              " 'R_win_by_Decision_Split',\n",
              " 'R_age']"
            ]
          },
          "metadata": {},
          "execution_count": 83
        }
      ],
      "source": [
        "import math\n",
        "import numpy\n",
        "cor = df.corr()\n",
        "cor_target = abs(cor[\"Winner\"])\n",
        "relavent_features = cor_target[cor_target >0.09]\n",
        "relavent_features = relavent_features.drop(\"Winner\")\n",
        "relavent_features = relavent_features.to_frame()\n",
        "relavent_features_names = relavent_features.index.values.tolist()\n",
        "relavent_features_names\n",
        "relavent_features = relavent_features[\"Winner\"].tolist()\n",
        "relavent_features_names\n"
      ]
    },
    {
      "cell_type": "code",
      "execution_count": 84,
      "metadata": {
        "id": "wW-7lqvXSzUj",
        "colab": {
          "base_uri": "https://localhost:8080/",
          "height": 270
        },
        "outputId": "56654285-a18d-4f50-94ef-58fb4119608c"
      },
      "outputs": [
        {
          "output_type": "execute_result",
          "data": {
            "text/plain": [
              "   B_avg_SIG_STR_att  B_avg_SIG_STR_landed  B_avg_HEAD_landed  B_avg_BODY_att  \\\n",
              "0          50.000000             20.000000          11.000000        7.500000   \n",
              "1          65.500000             35.000000          20.000000       12.000000   \n",
              "4         109.187500             57.937500          31.375000       31.187500   \n",
              "5          86.000000             40.750000          23.125000       10.000000   \n",
              "6         130.818359             60.113281          38.814453       20.951172   \n",
              "\n",
              "   B_avg_DISTANCE_att  B_avg_DISTANCE_landed  R_avg_opp_SIG_STR_att  \\\n",
              "0           35.000000              12.500000              13.000000   \n",
              "1           58.000000              30.000000              69.156250   \n",
              "4           33.562500              11.000000             148.846680   \n",
              "5           68.875000              29.625000              78.617188   \n",
              "6          125.130859              55.888672              61.062500   \n",
              "\n",
              "   R_avg_opp_SIG_STR_landed  R_avg_opp_HEAD_landed  R_avg_opp_BODY_att  \\\n",
              "0                  6.000000               5.000000            2.000000   \n",
              "1                 27.593750              13.343750            9.093750   \n",
              "4                 84.554688              38.693359           37.717773   \n",
              "5                 32.046875              14.320312           16.726562   \n",
              "6                 26.500000              19.062500            5.562500   \n",
              "\n",
              "   R_avg_opp_BODY_landed  R_avg_opp_DISTANCE_landed  R_avg_GROUND_att  \\\n",
              "0               1.000000                   6.000000          0.000000   \n",
              "1               6.156250                  23.125000         12.281250   \n",
              "4              31.658203                  48.479492          4.489258   \n",
              "5              11.304688                  25.156250         10.414062   \n",
              "6               4.187500                  23.687500          1.687500   \n",
              "\n",
              "   R_losses  R_win_by_Decision_Split  R_age  \n",
              "0         0                        0   27.0  \n",
              "1         2                        1   28.0  \n",
              "4         6                        0   43.0  \n",
              "5         1                        1   41.0  \n",
              "6         1                        0   31.0  "
            ],
            "text/html": [
              "\n",
              "  <div id=\"df-f683de34-8973-4824-b363-5431775fdd68\">\n",
              "    <div class=\"colab-df-container\">\n",
              "      <div>\n",
              "<style scoped>\n",
              "    .dataframe tbody tr th:only-of-type {\n",
              "        vertical-align: middle;\n",
              "    }\n",
              "\n",
              "    .dataframe tbody tr th {\n",
              "        vertical-align: top;\n",
              "    }\n",
              "\n",
              "    .dataframe thead th {\n",
              "        text-align: right;\n",
              "    }\n",
              "</style>\n",
              "<table border=\"1\" class=\"dataframe\">\n",
              "  <thead>\n",
              "    <tr style=\"text-align: right;\">\n",
              "      <th></th>\n",
              "      <th>B_avg_SIG_STR_att</th>\n",
              "      <th>B_avg_SIG_STR_landed</th>\n",
              "      <th>B_avg_HEAD_landed</th>\n",
              "      <th>B_avg_BODY_att</th>\n",
              "      <th>B_avg_DISTANCE_att</th>\n",
              "      <th>B_avg_DISTANCE_landed</th>\n",
              "      <th>R_avg_opp_SIG_STR_att</th>\n",
              "      <th>R_avg_opp_SIG_STR_landed</th>\n",
              "      <th>R_avg_opp_HEAD_landed</th>\n",
              "      <th>R_avg_opp_BODY_att</th>\n",
              "      <th>R_avg_opp_BODY_landed</th>\n",
              "      <th>R_avg_opp_DISTANCE_landed</th>\n",
              "      <th>R_avg_GROUND_att</th>\n",
              "      <th>R_losses</th>\n",
              "      <th>R_win_by_Decision_Split</th>\n",
              "      <th>R_age</th>\n",
              "    </tr>\n",
              "  </thead>\n",
              "  <tbody>\n",
              "    <tr>\n",
              "      <th>0</th>\n",
              "      <td>50.000000</td>\n",
              "      <td>20.000000</td>\n",
              "      <td>11.000000</td>\n",
              "      <td>7.500000</td>\n",
              "      <td>35.000000</td>\n",
              "      <td>12.500000</td>\n",
              "      <td>13.000000</td>\n",
              "      <td>6.000000</td>\n",
              "      <td>5.000000</td>\n",
              "      <td>2.000000</td>\n",
              "      <td>1.000000</td>\n",
              "      <td>6.000000</td>\n",
              "      <td>0.000000</td>\n",
              "      <td>0</td>\n",
              "      <td>0</td>\n",
              "      <td>27.0</td>\n",
              "    </tr>\n",
              "    <tr>\n",
              "      <th>1</th>\n",
              "      <td>65.500000</td>\n",
              "      <td>35.000000</td>\n",
              "      <td>20.000000</td>\n",
              "      <td>12.000000</td>\n",
              "      <td>58.000000</td>\n",
              "      <td>30.000000</td>\n",
              "      <td>69.156250</td>\n",
              "      <td>27.593750</td>\n",
              "      <td>13.343750</td>\n",
              "      <td>9.093750</td>\n",
              "      <td>6.156250</td>\n",
              "      <td>23.125000</td>\n",
              "      <td>12.281250</td>\n",
              "      <td>2</td>\n",
              "      <td>1</td>\n",
              "      <td>28.0</td>\n",
              "    </tr>\n",
              "    <tr>\n",
              "      <th>4</th>\n",
              "      <td>109.187500</td>\n",
              "      <td>57.937500</td>\n",
              "      <td>31.375000</td>\n",
              "      <td>31.187500</td>\n",
              "      <td>33.562500</td>\n",
              "      <td>11.000000</td>\n",
              "      <td>148.846680</td>\n",
              "      <td>84.554688</td>\n",
              "      <td>38.693359</td>\n",
              "      <td>37.717773</td>\n",
              "      <td>31.658203</td>\n",
              "      <td>48.479492</td>\n",
              "      <td>4.489258</td>\n",
              "      <td>6</td>\n",
              "      <td>0</td>\n",
              "      <td>43.0</td>\n",
              "    </tr>\n",
              "    <tr>\n",
              "      <th>5</th>\n",
              "      <td>86.000000</td>\n",
              "      <td>40.750000</td>\n",
              "      <td>23.125000</td>\n",
              "      <td>10.000000</td>\n",
              "      <td>68.875000</td>\n",
              "      <td>29.625000</td>\n",
              "      <td>78.617188</td>\n",
              "      <td>32.046875</td>\n",
              "      <td>14.320312</td>\n",
              "      <td>16.726562</td>\n",
              "      <td>11.304688</td>\n",
              "      <td>25.156250</td>\n",
              "      <td>10.414062</td>\n",
              "      <td>1</td>\n",
              "      <td>1</td>\n",
              "      <td>41.0</td>\n",
              "    </tr>\n",
              "    <tr>\n",
              "      <th>6</th>\n",
              "      <td>130.818359</td>\n",
              "      <td>60.113281</td>\n",
              "      <td>38.814453</td>\n",
              "      <td>20.951172</td>\n",
              "      <td>125.130859</td>\n",
              "      <td>55.888672</td>\n",
              "      <td>61.062500</td>\n",
              "      <td>26.500000</td>\n",
              "      <td>19.062500</td>\n",
              "      <td>5.562500</td>\n",
              "      <td>4.187500</td>\n",
              "      <td>23.687500</td>\n",
              "      <td>1.687500</td>\n",
              "      <td>1</td>\n",
              "      <td>0</td>\n",
              "      <td>31.0</td>\n",
              "    </tr>\n",
              "  </tbody>\n",
              "</table>\n",
              "</div>\n",
              "      <button class=\"colab-df-convert\" onclick=\"convertToInteractive('df-f683de34-8973-4824-b363-5431775fdd68')\"\n",
              "              title=\"Convert this dataframe to an interactive table.\"\n",
              "              style=\"display:none;\">\n",
              "        \n",
              "  <svg xmlns=\"http://www.w3.org/2000/svg\" height=\"24px\"viewBox=\"0 0 24 24\"\n",
              "       width=\"24px\">\n",
              "    <path d=\"M0 0h24v24H0V0z\" fill=\"none\"/>\n",
              "    <path d=\"M18.56 5.44l.94 2.06.94-2.06 2.06-.94-2.06-.94-.94-2.06-.94 2.06-2.06.94zm-11 1L8.5 8.5l.94-2.06 2.06-.94-2.06-.94L8.5 2.5l-.94 2.06-2.06.94zm10 10l.94 2.06.94-2.06 2.06-.94-2.06-.94-.94-2.06-.94 2.06-2.06.94z\"/><path d=\"M17.41 7.96l-1.37-1.37c-.4-.4-.92-.59-1.43-.59-.52 0-1.04.2-1.43.59L10.3 9.45l-7.72 7.72c-.78.78-.78 2.05 0 2.83L4 21.41c.39.39.9.59 1.41.59.51 0 1.02-.2 1.41-.59l7.78-7.78 2.81-2.81c.8-.78.8-2.07 0-2.86zM5.41 20L4 18.59l7.72-7.72 1.47 1.35L5.41 20z\"/>\n",
              "  </svg>\n",
              "      </button>\n",
              "      \n",
              "  <style>\n",
              "    .colab-df-container {\n",
              "      display:flex;\n",
              "      flex-wrap:wrap;\n",
              "      gap: 12px;\n",
              "    }\n",
              "\n",
              "    .colab-df-convert {\n",
              "      background-color: #E8F0FE;\n",
              "      border: none;\n",
              "      border-radius: 50%;\n",
              "      cursor: pointer;\n",
              "      display: none;\n",
              "      fill: #1967D2;\n",
              "      height: 32px;\n",
              "      padding: 0 0 0 0;\n",
              "      width: 32px;\n",
              "    }\n",
              "\n",
              "    .colab-df-convert:hover {\n",
              "      background-color: #E2EBFA;\n",
              "      box-shadow: 0px 1px 2px rgba(60, 64, 67, 0.3), 0px 1px 3px 1px rgba(60, 64, 67, 0.15);\n",
              "      fill: #174EA6;\n",
              "    }\n",
              "\n",
              "    [theme=dark] .colab-df-convert {\n",
              "      background-color: #3B4455;\n",
              "      fill: #D2E3FC;\n",
              "    }\n",
              "\n",
              "    [theme=dark] .colab-df-convert:hover {\n",
              "      background-color: #434B5C;\n",
              "      box-shadow: 0px 1px 3px 1px rgba(0, 0, 0, 0.15);\n",
              "      filter: drop-shadow(0px 1px 2px rgba(0, 0, 0, 0.3));\n",
              "      fill: #FFFFFF;\n",
              "    }\n",
              "  </style>\n",
              "\n",
              "      <script>\n",
              "        const buttonEl =\n",
              "          document.querySelector('#df-f683de34-8973-4824-b363-5431775fdd68 button.colab-df-convert');\n",
              "        buttonEl.style.display =\n",
              "          google.colab.kernel.accessAllowed ? 'block' : 'none';\n",
              "\n",
              "        async function convertToInteractive(key) {\n",
              "          const element = document.querySelector('#df-f683de34-8973-4824-b363-5431775fdd68');\n",
              "          const dataTable =\n",
              "            await google.colab.kernel.invokeFunction('convertToInteractive',\n",
              "                                                     [key], {});\n",
              "          if (!dataTable) return;\n",
              "\n",
              "          const docLinkHtml = 'Like what you see? Visit the ' +\n",
              "            '<a target=\"_blank\" href=https://colab.research.google.com/notebooks/data_table.ipynb>data table notebook</a>'\n",
              "            + ' to learn more about interactive tables.';\n",
              "          element.innerHTML = '';\n",
              "          dataTable['output_type'] = 'display_data';\n",
              "          await google.colab.output.renderOutput(dataTable, element);\n",
              "          const docLink = document.createElement('div');\n",
              "          docLink.innerHTML = docLinkHtml;\n",
              "          element.appendChild(docLink);\n",
              "        }\n",
              "      </script>\n",
              "    </div>\n",
              "  </div>\n",
              "  "
            ]
          },
          "metadata": {},
          "execution_count": 84
        }
      ],
      "source": [
        "pandas_df = df[df.columns.intersection(relavent_features_names)]\n",
        "pandas_df.head(5)\n"
      ]
    },
    {
      "cell_type": "code",
      "execution_count": 85,
      "metadata": {
        "id": "HqNlCnTGkfCY",
        "colab": {
          "base_uri": "https://localhost:8080/",
          "height": 910
        },
        "outputId": "6d697d5e-1a39-46fb-8cb3-5313f919f872"
      },
      "outputs": [
        {
          "output_type": "stream",
          "name": "stderr",
          "text": [
            "No handles with labels found to put in legend.\n"
          ]
        },
        {
          "output_type": "display_data",
          "data": {
            "text/plain": [
              "<Figure size 1296x1080 with 1 Axes>"
            ],
            "image/png": "[encoded data removed]"
          },
          "metadata": {
            "needs_background": "light"
          }
        }
      ],
      "source": [
        "import matplotlib.pyplot as plt\n",
        "import seaborn as sns\n",
        "%matplotlib inline\n",
        "# Creating a bar plot\n",
        "sns.barplot(x=relavent_features, y=relavent_features_names)\n",
        "# Add labels to your graph\n",
        "plt.xlabel('Feature Importance Score')\n",
        "plt.ylabel('Features')\n",
        "plt.title(\"Visualizing Important Features\")\n",
        "plt.legend()\n",
        "plt.gcf().set_size_inches(18, 15)\n",
        "plt.show()"
      ]
    },
    {
      "cell_type": "code",
      "execution_count": 86,
      "metadata": {
        "id": "EJnV2xSSoGiv",
        "colab": {
          "base_uri": "https://localhost:8080/",
          "height": 859
        },
        "outputId": "290d8627-a2b9-4a8c-d240-4abab51d0b45"
      },
      "outputs": [
        {
          "output_type": "execute_result",
          "data": {
            "text/plain": [
              "<matplotlib.axes._subplots.AxesSubplot at 0x7f098fcb2790>"
            ]
          },
          "metadata": {},
          "execution_count": 86
        },
        {
          "output_type": "display_data",
          "data": {
            "text/plain": [
              "<Figure size 1080x864 with 2 Axes>"
            ],
            "image/png": "[encoded data removed]"
          },
          "metadata": {
            "needs_background": "light"
          }
        }
      ],
      "source": [
        "import seaborn\n",
        "\n",
        "plt.figure(figsize=(15,12))\n",
        "seaborn.heatmap(pandas_df.corr(),annot=True,cmap=(\"coolwarm\"))\n"
      ]
    },
    {
      "cell_type": "code",
      "source": [
        "pd.DataFrame(pandas_df.mean(),columns = [\"Mean\"])"
      ],
      "metadata": {
        "colab": {
          "base_uri": "https://localhost:8080/",
          "height": 551
        },
        "id": "16XpFP55mpeo",
        "outputId": "faaf55dc-8014-48f7-9189-009ffda965d9"
      },
      "execution_count": 87,
      "outputs": [
        {
          "output_type": "execute_result",
          "data": {
            "text/plain": [
              "                                Mean\n",
              "B_avg_SIG_STR_att          80.889164\n",
              "B_avg_SIG_STR_landed       35.419449\n",
              "B_avg_HEAD_landed          22.786906\n",
              "B_avg_BODY_att             10.300788\n",
              "B_avg_DISTANCE_att         64.092976\n",
              "B_avg_DISTANCE_landed      23.931277\n",
              "R_avg_opp_SIG_STR_att      80.698176\n",
              "R_avg_opp_SIG_STR_landed   33.565877\n",
              "R_avg_opp_HEAD_landed      21.158864\n",
              "R_avg_opp_BODY_att         10.186184\n",
              "R_avg_opp_BODY_landed       6.812501\n",
              "R_avg_opp_DISTANCE_landed  23.888864\n",
              "R_avg_GROUND_att            8.879900\n",
              "R_losses                    2.589337\n",
              "R_win_by_Decision_Split     0.405982\n",
              "R_age                      30.219766"
            ],
            "text/html": [
              "\n",
              "  <div id=\"df-017d6f75-2fc3-4051-a206-0e519756879b\">\n",
              "    <div class=\"colab-df-container\">\n",
              "      <div>\n",
              "<style scoped>\n",
              "    .dataframe tbody tr th:only-of-type {\n",
              "        vertical-align: middle;\n",
              "    }\n",
              "\n",
              "    .dataframe tbody tr th {\n",
              "        vertical-align: top;\n",
              "    }\n",
              "\n",
              "    .dataframe thead th {\n",
              "        text-align: right;\n",
              "    }\n",
              "</style>\n",
              "<table border=\"1\" class=\"dataframe\">\n",
              "  <thead>\n",
              "    <tr style=\"text-align: right;\">\n",
              "      <th></th>\n",
              "      <th>Mean</th>\n",
              "    </tr>\n",
              "  </thead>\n",
              "  <tbody>\n",
              "    <tr>\n",
              "      <th>B_avg_SIG_STR_att</th>\n",
              "      <td>80.889164</td>\n",
              "    </tr>\n",
              "    <tr>\n",
              "      <th>B_avg_SIG_STR_landed</th>\n",
              "      <td>35.419449</td>\n",
              "    </tr>\n",
              "    <tr>\n",
              "      <th>B_avg_HEAD_landed</th>\n",
              "      <td>22.786906</td>\n",
              "    </tr>\n",
              "    <tr>\n",
              "      <th>B_avg_BODY_att</th>\n",
              "      <td>10.300788</td>\n",
              "    </tr>\n",
              "    <tr>\n",
              "      <th>B_avg_DISTANCE_att</th>\n",
              "      <td>64.092976</td>\n",
              "    </tr>\n",
              "    <tr>\n",
              "      <th>B_avg_DISTANCE_landed</th>\n",
              "      <td>23.931277</td>\n",
              "    </tr>\n",
              "    <tr>\n",
              "      <th>R_avg_opp_SIG_STR_att</th>\n",
              "      <td>80.698176</td>\n",
              "    </tr>\n",
              "    <tr>\n",
              "      <th>R_avg_opp_SIG_STR_landed</th>\n",
              "      <td>33.565877</td>\n",
              "    </tr>\n",
              "    <tr>\n",
              "      <th>R_avg_opp_HEAD_landed</th>\n",
              "      <td>21.158864</td>\n",
              "    </tr>\n",
              "    <tr>\n",
              "      <th>R_avg_opp_BODY_att</th>\n",
              "      <td>10.186184</td>\n",
              "    </tr>\n",
              "    <tr>\n",
              "      <th>R_avg_opp_BODY_landed</th>\n",
              "      <td>6.812501</td>\n",
              "    </tr>\n",
              "    <tr>\n",
              "      <th>R_avg_opp_DISTANCE_landed</th>\n",
              "      <td>23.888864</td>\n",
              "    </tr>\n",
              "    <tr>\n",
              "      <th>R_avg_GROUND_att</th>\n",
              "      <td>8.879900</td>\n",
              "    </tr>\n",
              "    <tr>\n",
              "      <th>R_losses</th>\n",
              "      <td>2.589337</td>\n",
              "    </tr>\n",
              "    <tr>\n",
              "      <th>R_win_by_Decision_Split</th>\n",
              "      <td>0.405982</td>\n",
              "    </tr>\n",
              "    <tr>\n",
              "      <th>R_age</th>\n",
              "      <td>30.219766</td>\n",
              "    </tr>\n",
              "  </tbody>\n",
              "</table>\n",
              "</div>\n",
              "      <button class=\"colab-df-convert\" onclick=\"convertToInteractive('df-017d6f75-2fc3-4051-a206-0e519756879b')\"\n",
              "              title=\"Convert this dataframe to an interactive table.\"\n",
              "              style=\"display:none;\">\n",
              "        \n",
              "  <svg xmlns=\"http://www.w3.org/2000/svg\" height=\"24px\"viewBox=\"0 0 24 24\"\n",
              "       width=\"24px\">\n",
              "    <path d=\"M0 0h24v24H0V0z\" fill=\"none\"/>\n",
              "    <path d=\"M18.56 5.44l.94 2.06.94-2.06 2.06-.94-2.06-.94-.94-2.06-.94 2.06-2.06.94zm-11 1L8.5 8.5l.94-2.06 2.06-.94-2.06-.94L8.5 2.5l-.94 2.06-2.06.94zm10 10l.94 2.06.94-2.06 2.06-.94-2.06-.94-.94-2.06-.94 2.06-2.06.94z\"/><path d=\"M17.41 7.96l-1.37-1.37c-.4-.4-.92-.59-1.43-.59-.52 0-1.04.2-1.43.59L10.3 9.45l-7.72 7.72c-.78.78-.78 2.05 0 2.83L4 21.41c.39.39.9.59 1.41.59.51 0 1.02-.2 1.41-.59l7.78-7.78 2.81-2.81c.8-.78.8-2.07 0-2.86zM5.41 20L4 18.59l7.72-7.72 1.47 1.35L5.41 20z\"/>\n",
              "  </svg>\n",
              "      </button>\n",
              "      \n",
              "  <style>\n",
              "    .colab-df-container {\n",
              "      display:flex;\n",
              "      flex-wrap:wrap;\n",
              "      gap: 12px;\n",
              "    }\n",
              "\n",
              "    .colab-df-convert {\n",
              "      background-color: #E8F0FE;\n",
              "      border: none;\n",
              "      border-radius: 50%;\n",
              "      cursor: pointer;\n",
              "      display: none;\n",
              "      fill: #1967D2;\n",
              "      height: 32px;\n",
              "      padding: 0 0 0 0;\n",
              "      width: 32px;\n",
              "    }\n",
              "\n",
              "    .colab-df-convert:hover {\n",
              "      background-color: #E2EBFA;\n",
              "      box-shadow: 0px 1px 2px rgba(60, 64, 67, 0.3), 0px 1px 3px 1px rgba(60, 64, 67, 0.15);\n",
              "      fill: #174EA6;\n",
              "    }\n",
              "\n",
              "    [theme=dark] .colab-df-convert {\n",
              "      background-color: #3B4455;\n",
              "      fill: #D2E3FC;\n",
              "    }\n",
              "\n",
              "    [theme=dark] .colab-df-convert:hover {\n",
              "      background-color: #434B5C;\n",
              "      box-shadow: 0px 1px 3px 1px rgba(0, 0, 0, 0.15);\n",
              "      filter: drop-shadow(0px 1px 2px rgba(0, 0, 0, 0.3));\n",
              "      fill: #FFFFFF;\n",
              "    }\n",
              "  </style>\n",
              "\n",
              "      <script>\n",
              "        const buttonEl =\n",
              "          document.querySelector('#df-017d6f75-2fc3-4051-a206-0e519756879b button.colab-df-convert');\n",
              "        buttonEl.style.display =\n",
              "          google.colab.kernel.accessAllowed ? 'block' : 'none';\n",
              "\n",
              "        async function convertToInteractive(key) {\n",
              "          const element = document.querySelector('#df-017d6f75-2fc3-4051-a206-0e519756879b');\n",
              "          const dataTable =\n",
              "            await google.colab.kernel.invokeFunction('convertToInteractive',\n",
              "                                                     [key], {});\n",
              "          if (!dataTable) return;\n",
              "\n",
              "          const docLinkHtml = 'Like what you see? Visit the ' +\n",
              "            '<a target=\"_blank\" href=https://colab.research.google.com/notebooks/data_table.ipynb>data table notebook</a>'\n",
              "            + ' to learn more about interactive tables.';\n",
              "          element.innerHTML = '';\n",
              "          dataTable['output_type'] = 'display_data';\n",
              "          await google.colab.output.renderOutput(dataTable, element);\n",
              "          const docLink = document.createElement('div');\n",
              "          docLink.innerHTML = docLinkHtml;\n",
              "          element.appendChild(docLink);\n",
              "        }\n",
              "      </script>\n",
              "    </div>\n",
              "  </div>\n",
              "  "
            ]
          },
          "metadata": {},
          "execution_count": 87
        }
      ]
    },
    {
      "cell_type": "code",
      "execution_count": null,
      "metadata": {
        "id": "C4SK-myprNAR",
        "colab": {
          "base_uri": "https://localhost:8080/",
          "height": 551
        },
        "outputId": "9fee79dc-c434-4e11-9d81-c8911293e902"
      },
      "outputs": [
        {
          "output_type": "execute_result",
          "data": {
            "text/plain": [
              "                           Standard Deviation\n",
              "B_avg_SIG_STR_att                   50.770101\n",
              "B_avg_SIG_STR_landed                21.862052\n",
              "B_avg_HEAD_landed                   15.252317\n",
              "B_avg_BODY_att                       8.461966\n",
              "B_avg_DISTANCE_att                  48.471781\n",
              "B_avg_DISTANCE_landed               19.340236\n",
              "R_avg_opp_SIG_STR_att               50.634097\n",
              "R_avg_opp_SIG_STR_landed            21.610290\n",
              "R_avg_opp_HEAD_landed               15.379231\n",
              "R_avg_opp_BODY_att                   7.704707\n",
              "R_avg_opp_BODY_landed                5.307885\n",
              "R_avg_opp_DISTANCE_landed           19.144110\n",
              "R_avg_GROUND_att                    10.164193\n",
              "R_losses                             2.394201\n",
              "R_win_by_Decision_Split              0.690591\n",
              "R_age                                4.157703"
            ],
            "text/html": [
              "\n",
              "  <div id=\"df-ea2787f4-b7f4-4fd4-aaf1-0ad5c71b915a\">\n",
              "    <div class=\"colab-df-container\">\n",
              "      <div>\n",
              "<style scoped>\n",
              "    .dataframe tbody tr th:only-of-type {\n",
              "        vertical-align: middle;\n",
              "    }\n",
              "\n",
              "    .dataframe tbody tr th {\n",
              "        vertical-align: top;\n",
              "    }\n",
              "\n",
              "    .dataframe thead th {\n",
              "        text-align: right;\n",
              "    }\n",
              "</style>\n",
              "<table border=\"1\" class=\"dataframe\">\n",
              "  <thead>\n",
              "    <tr style=\"text-align: right;\">\n",
              "      <th></th>\n",
              "      <th>Standard Deviation</th>\n",
              "    </tr>\n",
              "  </thead>\n",
              "  <tbody>\n",
              "    <tr>\n",
              "      <th>B_avg_SIG_STR_att</th>\n",
              "      <td>50.770101</td>\n",
              "    </tr>\n",
              "    <tr>\n",
              "      <th>B_avg_SIG_STR_landed</th>\n",
              "      <td>21.862052</td>\n",
              "    </tr>\n",
              "    <tr>\n",
              "      <th>B_avg_HEAD_landed</th>\n",
              "      <td>15.252317</td>\n",
              "    </tr>\n",
              "    <tr>\n",
              "      <th>B_avg_BODY_att</th>\n",
              "      <td>8.461966</td>\n",
              "    </tr>\n",
              "    <tr>\n",
              "      <th>B_avg_DISTANCE_att</th>\n",
              "      <td>48.471781</td>\n",
              "    </tr>\n",
              "    <tr>\n",
              "      <th>B_avg_DISTANCE_landed</th>\n",
              "      <td>19.340236</td>\n",
              "    </tr>\n",
              "    <tr>\n",
              "      <th>R_avg_opp_SIG_STR_att</th>\n",
              "      <td>50.634097</td>\n",
              "    </tr>\n",
              "    <tr>\n",
              "      <th>R_avg_opp_SIG_STR_landed</th>\n",
              "      <td>21.610290</td>\n",
              "    </tr>\n",
              "    <tr>\n",
              "      <th>R_avg_opp_HEAD_landed</th>\n",
              "      <td>15.379231</td>\n",
              "    </tr>\n",
              "    <tr>\n",
              "      <th>R_avg_opp_BODY_att</th>\n",
              "      <td>7.704707</td>\n",
              "    </tr>\n",
              "    <tr>\n",
              "      <th>R_avg_opp_BODY_landed</th>\n",
              "      <td>5.307885</td>\n",
              "    </tr>\n",
              "    <tr>\n",
              "      <th>R_avg_opp_DISTANCE_landed</th>\n",
              "      <td>19.144110</td>\n",
              "    </tr>\n",
              "    <tr>\n",
              "      <th>R_avg_GROUND_att</th>\n",
              "      <td>10.164193</td>\n",
              "    </tr>\n",
              "    <tr>\n",
              "      <th>R_losses</th>\n",
              "      <td>2.394201</td>\n",
              "    </tr>\n",
              "    <tr>\n",
              "      <th>R_win_by_Decision_Split</th>\n",
              "      <td>0.690591</td>\n",
              "    </tr>\n",
              "    <tr>\n",
              "      <th>R_age</th>\n",
              "      <td>4.157703</td>\n",
              "    </tr>\n",
              "  </tbody>\n",
              "</table>\n",
              "</div>\n",
              "      <button class=\"colab-df-convert\" onclick=\"convertToInteractive('df-ea2787f4-b7f4-4fd4-aaf1-0ad5c71b915a')\"\n",
              "              title=\"Convert this dataframe to an interactive table.\"\n",
              "              style=\"display:none;\">\n",
              "        \n",
              "  <svg xmlns=\"http://www.w3.org/2000/svg\" height=\"24px\"viewBox=\"0 0 24 24\"\n",
              "       width=\"24px\">\n",
              "    <path d=\"M0 0h24v24H0V0z\" fill=\"none\"/>\n",
              "    <path d=\"M18.56 5.44l.94 2.06.94-2.06 2.06-.94-2.06-.94-.94-2.06-.94 2.06-2.06.94zm-11 1L8.5 8.5l.94-2.06 2.06-.94-2.06-.94L8.5 2.5l-.94 2.06-2.06.94zm10 10l.94 2.06.94-2.06 2.06-.94-2.06-.94-.94-2.06-.94 2.06-2.06.94z\"/><path d=\"M17.41 7.96l-1.37-1.37c-.4-.4-.92-.59-1.43-.59-.52 0-1.04.2-1.43.59L10.3 9.45l-7.72 7.72c-.78.78-.78 2.05 0 2.83L4 21.41c.39.39.9.59 1.41.59.51 0 1.02-.2 1.41-.59l7.78-7.78 2.81-2.81c.8-.78.8-2.07 0-2.86zM5.41 20L4 18.59l7.72-7.72 1.47 1.35L5.41 20z\"/>\n",
              "  </svg>\n",
              "      </button>\n",
              "      \n",
              "  <style>\n",
              "    .colab-df-container {\n",
              "      display:flex;\n",
              "      flex-wrap:wrap;\n",
              "      gap: 12px;\n",
              "    }\n",
              "\n",
              "    .colab-df-convert {\n",
              "      background-color: #E8F0FE;\n",
              "      border: none;\n",
              "      border-radius: 50%;\n",
              "      cursor: pointer;\n",
              "      display: none;\n",
              "      fill: #1967D2;\n",
              "      height: 32px;\n",
              "      padding: 0 0 0 0;\n",
              "      width: 32px;\n",
              "    }\n",
              "\n",
              "    .colab-df-convert:hover {\n",
              "      background-color: #E2EBFA;\n",
              "      box-shadow: 0px 1px 2px rgba(60, 64, 67, 0.3), 0px 1px 3px 1px rgba(60, 64, 67, 0.15);\n",
              "      fill: #174EA6;\n",
              "    }\n",
              "\n",
              "    [theme=dark] .colab-df-convert {\n",
              "      background-color: #3B4455;\n",
              "      fill: #D2E3FC;\n",
              "    }\n",
              "\n",
              "    [theme=dark] .colab-df-convert:hover {\n",
              "      background-color: #434B5C;\n",
              "      box-shadow: 0px 1px 3px 1px rgba(0, 0, 0, 0.15);\n",
              "      filter: drop-shadow(0px 1px 2px rgba(0, 0, 0, 0.3));\n",
              "      fill: #FFFFFF;\n",
              "    }\n",
              "  </style>\n",
              "\n",
              "      <script>\n",
              "        const buttonEl =\n",
              "          document.querySelector('#df-ea2787f4-b7f4-4fd4-aaf1-0ad5c71b915a button.colab-df-convert');\n",
              "        buttonEl.style.display =\n",
              "          google.colab.kernel.accessAllowed ? 'block' : 'none';\n",
              "\n",
              "        async function convertToInteractive(key) {\n",
              "          const element = document.querySelector('#df-ea2787f4-b7f4-4fd4-aaf1-0ad5c71b915a');\n",
              "          const dataTable =\n",
              "            await google.colab.kernel.invokeFunction('convertToInteractive',\n",
              "                                                     [key], {});\n",
              "          if (!dataTable) return;\n",
              "\n",
              "          const docLinkHtml = 'Like what you see? Visit the ' +\n",
              "            '<a target=\"_blank\" href=https://colab.research.google.com/notebooks/data_table.ipynb>data table notebook</a>'\n",
              "            + ' to learn more about interactive tables.';\n",
              "          element.innerHTML = '';\n",
              "          dataTable['output_type'] = 'display_data';\n",
              "          await google.colab.output.renderOutput(dataTable, element);\n",
              "          const docLink = document.createElement('div');\n",
              "          docLink.innerHTML = docLinkHtml;\n",
              "          element.appendChild(docLink);\n",
              "        }\n",
              "      </script>\n",
              "    </div>\n",
              "  </div>\n",
              "  "
            ]
          },
          "metadata": {},
          "execution_count": 44
        }
      ],
      "source": [
        "pd.DataFrame(pandas_df.std(),columns = [\"Standard Deviation\"])"
      ]
    },
    {
      "cell_type": "code",
      "execution_count": null,
      "metadata": {
        "id": "-rkIphrBVI0H",
        "colab": {
          "base_uri": "https://localhost:8080/"
        },
        "outputId": "e62b9f63-8d31-470b-868a-f4b58452ebcb"
      },
      "outputs": [
        {
          "output_type": "execute_result",
          "data": {
            "text/plain": [
              "2    1796\n",
              "0    1796\n",
              "Name: Winner, dtype: int64"
            ]
          },
          "metadata": {},
          "execution_count": 45
        }
      ],
      "source": [
        "from sklearn.utils import resample\n",
        "\n",
        "# Separate input features and target\n",
        "y = df.Winner\n",
        "X = pandas_df\n",
        "\n",
        "# setting up testing and training sets\n",
        "X_train, X_test, y_train, y_test = train_test_split(X, y, test_size=0.25, random_state=27)\n",
        "\n",
        "# concatenate our training data back together\n",
        "X = pd.concat([X_train, y_train], axis=1)\n",
        "\n",
        "# separate minority and majority classes\n",
        "R_Win = X[X.Winner==0]\n",
        "R_Lose = X[X.Winner==2]\n",
        "\n",
        "# upsample minority\n",
        "Winner_upsampled = resample(R_Win,\n",
        "                          replace=True, # sample with replacement\n",
        "                          n_samples=len(R_Lose), # match number in majority class\n",
        "                          random_state=27) # reproducible results\n",
        "\n",
        "# combine majority and upsampled minority\n",
        "upsampled = pd.concat([R_Lose, Winner_upsampled])\n",
        "\n",
        "# check new class counts\n",
        "upsampled.Winner.value_counts()"
      ]
    },
    {
      "cell_type": "code",
      "execution_count": null,
      "metadata": {
        "id": "W-x5KE0fVtcY"
      },
      "outputs": [],
      "source": [
        "y_train = upsampled.Winner\n",
        "X_train = upsampled.drop('Winner', axis=1)\n",
        "\n",
        "upsampled = LogisticRegression(solver='liblinear').fit(X_train, y_train)\n",
        "\n",
        "upsampled_pred = upsampled.predict(X_test)"
      ]
    },
    {
      "cell_type": "markdown",
      "metadata": {
        "id": "amznkfcUTtHo"
      },
      "source": [
        "# **Featured Decision Tree**"
      ]
    },
    {
      "cell_type": "code",
      "execution_count": null,
      "metadata": {
        "id": "i8S5UBelTska",
        "colab": {
          "base_uri": "https://localhost:8080/",
          "height": 314
        },
        "outputId": "9bd7bbe1-2393-498f-b899-d6fd3d037d40"
      },
      "outputs": [
        {
          "output_type": "display_data",
          "data": {
            "text/plain": [
              "<Figure size 1800x1440 with 1 Axes>"
            ],
            "image/png": "[encoded data removed]"
          },
          "metadata": {
            "needs_background": "light"
          }
        }
      ],
      "source": [
        "dtree1 = DecisionTreeClassifier()\n",
        "dtree1 = dtree1.fit(X_train, y_train)\n",
        "data = tree.export_graphviz(dtree1, out_file=None, feature_names=relavent_features_names)\n",
        "graph = pydotplus.graph_from_dot_data(data)\n",
        "graph.write_png('mydecisiontree_featured.png')\n",
        "\n",
        "img=pltimg.imread('mydecisiontree.png')\n",
        "imgplot = plt.imshow(img)\n",
        "plt.gcf().set_size_inches(25, 20)\n",
        "\n",
        "\n",
        "plt.show()"
      ]
    },
    {
      "cell_type": "code",
      "execution_count": null,
      "metadata": {
        "id": "MysiMwUgiM5N",
        "colab": {
          "base_uri": "https://localhost:8080/"
        },
        "outputId": "e03d6e23-4162-45f8-9ec6-05785fc10396"
      },
      "outputs": [
        {
          "output_type": "stream",
          "name": "stdout",
          "text": [
            "Index(['B_avg_SIG_STR_att', 'B_avg_SIG_STR_landed', 'B_avg_HEAD_landed',\n",
            "       'B_avg_BODY_att', 'B_avg_DISTANCE_att', 'B_avg_DISTANCE_landed',\n",
            "       'R_avg_opp_SIG_STR_att', 'R_avg_opp_SIG_STR_landed',\n",
            "       'R_avg_opp_HEAD_landed', 'R_avg_opp_BODY_att', 'R_avg_opp_BODY_landed',\n",
            "       'R_avg_opp_DISTANCE_landed', 'R_avg_GROUND_att', 'R_losses',\n",
            "       'R_win_by_Decision_Split', 'R_age'],\n",
            "      dtype='object')\n"
          ]
        }
      ],
      "source": [
        "print(pandas_df.columns)"
      ]
    },
    {
      "cell_type": "code",
      "execution_count": null,
      "metadata": {
        "id": "0AE-xiN5s3mc"
      },
      "outputs": [],
      "source": [
        "import random\n",
        "\n",
        "random_numlist = []\n",
        "\n",
        "for i in range(16):\n",
        "  n = random.randint(0,60)\n",
        "  random_numlist.append(n)\n"
      ]
    },
    {
      "cell_type": "code",
      "execution_count": null,
      "metadata": {
        "id": "PnRLAEzTb2WU",
        "colab": {
          "base_uri": "https://localhost:8080/"
        },
        "outputId": "4b2c9973-42cf-4e06-eb86-cc368765b35b"
      },
      "outputs": [
        {
          "output_type": "stream",
          "name": "stdout",
          "text": [
            "[2]\n",
            "[2] means 'Red Loses'\n",
            "[0] means 'Red Wins'\n"
          ]
        },
        {
          "output_type": "stream",
          "name": "stderr",
          "text": [
            "/usr/local/lib/python3.7/dist-packages/sklearn/base.py:451: UserWarning: X does not have valid feature names, but DecisionTreeClassifier was fitted with feature names\n",
            "  \"X does not have valid feature names, but\"\n"
          ]
        }
      ],
      "source": [
        "\n",
        "print(dtree1.predict([random_numlist]))\n",
        "print(\"[2] means 'Red Loses'\")\n",
        "print(\"[0] means 'Red Wins'\")"
      ]
    },
    {
      "cell_type": "code",
      "execution_count": null,
      "metadata": {
        "id": "Kj6U7x3Uit7-"
      },
      "outputs": [],
      "source": [
        "res_pred = dtree1.predict(X_test)\n",
        "score = accuracy_score(y_test, upsampled_pred)\n",
        "DT_accuracy = score\n"
      ]
    },
    {
      "cell_type": "code",
      "execution_count": null,
      "metadata": {
        "id": "uU3yxR9UVcH8",
        "colab": {
          "base_uri": "https://localhost:8080/"
        },
        "outputId": "6c513b9b-509b-4773-ce69-d26b7f6abd26"
      },
      "outputs": [
        {
          "output_type": "stream",
          "name": "stdout",
          "text": [
            "              precision    recall  f1-score   support\n",
            "\n",
            "           0       0.45      0.56      0.50       347\n",
            "           2       0.71      0.61      0.65       615\n",
            "\n",
            "    accuracy                           0.59       962\n",
            "   macro avg       0.58      0.58      0.58       962\n",
            "weighted avg       0.62      0.59      0.60       962\n",
            "\n"
          ]
        }
      ],
      "source": [
        "print(classification_report(y_test, upsampled_pred))"
      ]
    },
    {
      "cell_type": "markdown",
      "metadata": {
        "id": "q4AiJ273gisB"
      },
      "source": [
        "# **Random Forest Classifier**"
      ]
    },
    {
      "cell_type": "code",
      "execution_count": null,
      "metadata": {
        "id": "K3SH_gN3hUaS",
        "colab": {
          "base_uri": "https://localhost:8080/"
        },
        "outputId": "8703eb0c-5c7c-49ad-9aad-95dd6147bf02"
      },
      "outputs": [
        {
          "output_type": "execute_result",
          "data": {
            "text/plain": [
              "2    1796\n",
              "0    1796\n",
              "Name: Winner, dtype: int64"
            ]
          },
          "metadata": {},
          "execution_count": 57
        }
      ],
      "source": [
        "from sklearn.utils import resample\n",
        "\n",
        "# Separate input features and target\n",
        "y = df.Winner\n",
        "X = pandas_df\n",
        "\n",
        "\n",
        "# setting up testing and training sets\n",
        "X_train, X_test, y_train, y_test = train_test_split(X, y, test_size=0.25, random_state=27)\n",
        "\n",
        "# concatenate our training data back together\n",
        "X = pd.concat([X_train, y_train], axis=1)\n",
        "\n",
        "# separate minority and majority classes\n",
        "R_Win = X[X.Winner==0]\n",
        "R_Lose = X[X.Winner==2]\n",
        "\n",
        "# upsample minority\n",
        "Winner_upsampled = resample(R_Win,\n",
        "                          replace=True, # sample with replacement\n",
        "                          n_samples=len(R_Lose), # match number in majority class\n",
        "                          random_state=27) # reproducible results\n",
        "\n",
        "# combine majority and upsampled minority\n",
        "upsampled = pd.concat([R_Lose, Winner_upsampled])\n",
        "\n",
        "# check new class counts\n",
        "upsampled.Winner.value_counts()"
      ]
    },
    {
      "cell_type": "code",
      "execution_count": null,
      "metadata": {
        "id": "TunRgCCBhVbS"
      },
      "outputs": [],
      "source": [
        "y_train = upsampled.Winner\n",
        "X_train = upsampled.drop('Winner', axis=1)\n",
        "\n",
        "upsampled = LogisticRegression(solver='liblinear').fit(X_train, y_train)\n",
        "\n",
        "upsampled_pred = upsampled.predict(X_test)"
      ]
    },
    {
      "cell_type": "code",
      "execution_count": null,
      "metadata": {
        "id": "OnSwjDKhgoFQ"
      },
      "outputs": [],
      "source": [
        "from sklearn.ensemble import RandomForestClassifier\n",
        "\n",
        "#Create a Gaussian Classifier\n",
        "clf=RandomForestClassifier(n_estimators=100)\n",
        "\n",
        "#Train the model \n",
        "clf.fit(X_train,y_train)\n",
        "\n",
        "y_pred=clf.predict(X_test)"
      ]
    },
    {
      "cell_type": "code",
      "execution_count": null,
      "metadata": {
        "id": "NeFzmkqVgqdB"
      },
      "outputs": [],
      "source": [
        "from sklearn import metrics\n",
        "# Model Accuracy, how often is the classifier correct?\n",
        "RF_accuracy = metrics.accuracy_score(y_test, y_pred)"
      ]
    },
    {
      "cell_type": "code",
      "execution_count": null,
      "metadata": {
        "id": "qc_g5alUVjLm",
        "colab": {
          "base_uri": "https://localhost:8080/"
        },
        "outputId": "f14f131a-1031-4bec-a53e-836e22456519"
      },
      "outputs": [
        {
          "output_type": "stream",
          "name": "stdout",
          "text": [
            "              precision    recall  f1-score   support\n",
            "\n",
            "           0       0.46      0.31      0.37       347\n",
            "           2       0.67      0.80      0.73       615\n",
            "\n",
            "    accuracy                           0.62       962\n",
            "   macro avg       0.57      0.55      0.55       962\n",
            "weighted avg       0.60      0.62      0.60       962\n",
            "\n"
          ]
        }
      ],
      "source": [
        "print(classification_report(y_test, y_pred))"
      ]
    },
    {
      "cell_type": "code",
      "execution_count": null,
      "metadata": {
        "id": "--Xq57DKg5jk",
        "colab": {
          "base_uri": "https://localhost:8080/"
        },
        "outputId": "ad138ae3-a37b-4eb1-de84-1f7da72c2488"
      },
      "outputs": [
        {
          "output_type": "stream",
          "name": "stdout",
          "text": [
            "[2]\n",
            "[2] means 'Red Loses'\n",
            "[0] means 'Red Wins'\n"
          ]
        },
        {
          "output_type": "stream",
          "name": "stderr",
          "text": [
            "/usr/local/lib/python3.7/dist-packages/sklearn/base.py:451: UserWarning: X does not have valid feature names, but RandomForestClassifier was fitted with feature names\n",
            "  \"X does not have valid feature names, but\"\n"
          ]
        }
      ],
      "source": [
        "print(clf.predict([random_numlist]))\n",
        "print(\"[2] means 'Red Loses'\")\n",
        "print(\"[0] means 'Red Wins'\")"
      ]
    },
    {
      "cell_type": "code",
      "execution_count": null,
      "metadata": {
        "id": "Gj_Hr-Bi7vz2"
      },
      "outputs": [],
      "source": [
        "from sklearn.tree import export_graphviz\n",
        "import pydot\n",
        "from sklearn.ensemble import RandomForestRegressor\n",
        "\n",
        "rf_small = RandomForestRegressor(n_estimators=10, max_depth = 3)\n",
        "rf_small.fit(X_train, y_train)\n",
        "# Extract the small tree\n",
        "tree_small = rf_small.estimators_[5]\n",
        "# Save the tree as a png image\n",
        "export_graphviz(tree_small, out_file = 'small_tree.dot', feature_names = relavent_features_names, rounded = True, precision = 1)\n",
        "(graph, ) = pydot.graph_from_dot_file('small_tree.dot')\n",
        "graph.write_png('small_tree.png');\n"
      ]
    },
    {
      "cell_type": "markdown",
      "metadata": {
        "id": "v606qWKI5Ffm"
      },
      "source": [
        "# **SVM**"
      ]
    },
    {
      "cell_type": "code",
      "execution_count": null,
      "metadata": {
        "id": "gFDdoN4v5M_g"
      },
      "outputs": [],
      "source": [
        "from sklearn.preprocessing import StandardScaler\n",
        "\n",
        "sc_X = StandardScaler() \n",
        "X_train1 = sc_X.fit_transform(X_train)\n",
        "X_test1 = sc_X.fit_transform(X_test)"
      ]
    },
    {
      "cell_type": "code",
      "execution_count": null,
      "metadata": {
        "id": "s0XhyFLg_jDS"
      },
      "outputs": [],
      "source": [
        "from sklearn.svm import SVC\n",
        "\n",
        "# kernel to be set linear as it is binary class\n",
        "classifier = SVC(kernel='linear')\n",
        "\n",
        "# traininf the model\n",
        "classifier.fit(X_train1, y_train)\n",
        "y_pred = classifier.predict(X_test1)\n"
      ]
    },
    {
      "cell_type": "code",
      "execution_count": null,
      "metadata": {
        "id": "Ak0QuE-E_xpR"
      },
      "outputs": [],
      "source": [
        "SVM_accuracy = (accuracy_score(y_test, y_pred))"
      ]
    },
    {
      "cell_type": "code",
      "execution_count": null,
      "metadata": {
        "id": "eClWjFuWV1AC",
        "colab": {
          "base_uri": "https://localhost:8080/"
        },
        "outputId": "7f341f44-8f6a-4e50-cf8a-825e4cb3941a"
      },
      "outputs": [
        {
          "output_type": "stream",
          "name": "stdout",
          "text": [
            "              precision    recall  f1-score   support\n",
            "\n",
            "           0       0.45      0.57      0.50       347\n",
            "           2       0.71      0.60      0.65       615\n",
            "\n",
            "    accuracy                           0.59       962\n",
            "   macro avg       0.58      0.59      0.58       962\n",
            "weighted avg       0.62      0.59      0.60       962\n",
            "\n"
          ]
        }
      ],
      "source": [
        "print(classification_report(y_test, y_pred))"
      ]
    },
    {
      "cell_type": "code",
      "execution_count": null,
      "metadata": {
        "id": "nq8yxFJgAJNu",
        "colab": {
          "base_uri": "https://localhost:8080/"
        },
        "outputId": "efd7425e-d5c0-4255-e0e6-2f8ade7b4895"
      },
      "outputs": [
        {
          "output_type": "execute_result",
          "data": {
            "text/plain": [
              "SVC(gamma='auto')"
            ]
          },
          "metadata": {},
          "execution_count": 75
        }
      ],
      "source": [
        "svm_clf = SVC(gamma=\"auto\")\n",
        "svm_clf.fit(X_train1,y_train)"
      ]
    },
    {
      "cell_type": "code",
      "execution_count": null,
      "metadata": {
        "id": "Lq5v0m_4_8on",
        "colab": {
          "base_uri": "https://localhost:8080/"
        },
        "outputId": "40ead68b-99ed-45d9-a558-f24992ca4e04"
      },
      "outputs": [
        {
          "output_type": "stream",
          "name": "stdout",
          "text": [
            "[2]\n",
            "[2] means 'Red Loses'\n",
            "[0] means 'Red Wins'\n"
          ]
        }
      ],
      "source": [
        "print(svm_clf.predict([random_numlist]))\n",
        "print(\"[2] means 'Red Loses'\")\n",
        "print(\"[0] means 'Red Wins'\")"
      ]
    },
    {
      "cell_type": "markdown",
      "source": [
        "# **Logistic Regression**"
      ],
      "metadata": {
        "id": "nt0pPEvQ_VDe"
      }
    },
    {
      "cell_type": "code",
      "source": [
        "model = LogisticRegression()"
      ],
      "metadata": {
        "id": "QpBjOYJ-_ZmB"
      },
      "execution_count": null,
      "outputs": []
    },
    {
      "cell_type": "code",
      "execution_count": null,
      "metadata": {
        "id": "FwGG7bHR_nOG",
        "colab": {
          "base_uri": "https://localhost:8080/"
        },
        "outputId": "b59c8bd8-f5d0-491c-8cbf-fa6c3140706f"
      },
      "outputs": [
        {
          "output_type": "stream",
          "name": "stderr",
          "text": [
            "/usr/local/lib/python3.7/dist-packages/sklearn/linear_model/_logistic.py:818: ConvergenceWarning: lbfgs failed to converge (status=1):\n",
            "STOP: TOTAL NO. of ITERATIONS REACHED LIMIT.\n",
            "\n",
            "Increase the number of iterations (max_iter) or scale the data as shown in:\n",
            "    https://scikit-learn.org/stable/modules/preprocessing.html\n",
            "Please also refer to the documentation for alternative solver options:\n",
            "    https://scikit-learn.org/stable/modules/linear_model.html#logistic-regression\n",
            "  extra_warning_msg=_LOGISTIC_SOLVER_CONVERGENCE_MSG,\n"
          ]
        },
        {
          "output_type": "execute_result",
          "data": {
            "text/plain": [
              "LogisticRegression()"
            ]
          },
          "metadata": {},
          "execution_count": 78
        }
      ],
      "source": [
        "model.fit(X_train, y_train)"
      ]
    },
    {
      "cell_type": "code",
      "execution_count": null,
      "metadata": {
        "id": "Sv0DqfNMAB7J"
      },
      "outputs": [],
      "source": [
        "\n",
        "y_pred = model.predict(X_test)"
      ]
    },
    {
      "cell_type": "code",
      "execution_count": null,
      "metadata": {
        "id": "d3TrzGLAAOAl"
      },
      "outputs": [],
      "source": [
        "predictions = model.predict(X_test)"
      ]
    },
    {
      "cell_type": "code",
      "source": [
        "\n",
        "LR_accuracy = accuracy_score(y_test, upsampled_pred)\n",
        "print(\"The Accuracy for Test Set is {}\".format(LR_accuracy*100)+\"%\")"
      ],
      "metadata": {
        "id": "07Dw68vK_aMB",
        "colab": {
          "base_uri": "https://localhost:8080/"
        },
        "outputId": "1c9a909e-0c12-4164-ebee-3c77c928426d"
      },
      "execution_count": null,
      "outputs": [
        {
          "output_type": "stream",
          "name": "stdout",
          "text": [
            "The Accuracy for Test Set is 59.04365904365905%\n"
          ]
        }
      ]
    },
    {
      "cell_type": "markdown",
      "source": [
        "# **ANN**"
      ],
      "metadata": {
        "id": "zWvwlpCYRsaL"
      }
    },
    {
      "cell_type": "code",
      "source": [
        "from sklearn.naive_bayes import GaussianNB\n",
        "nb = GaussianNB()\n",
        "nb.fit(X_train, y_train)\n",
        "NB_accuracy = nb.score(X_test, y_test)"
      ],
      "metadata": {
        "id": "ja6P5on4RvBo"
      },
      "execution_count": null,
      "outputs": []
    },
    {
      "cell_type": "code",
      "source": [
        "results = [DT_accuracy,RF_accuracy,SVM_accuracy,LR_accuracy,NB_accuracy]\n",
        "df_results = pd.DataFrame(results,columns = [\"Model Accuracy\"], index = [\"Decision Tree\",\"Random Forest\",\"SVM\",\"Logistic Regression\",\"Naive Bayes\"])\n",
        "df_results"
      ],
      "metadata": {
        "id": "Z_n3dFrYB6AU",
        "colab": {
          "base_uri": "https://localhost:8080/",
          "height": 206
        },
        "outputId": "98f3d4a0-0737-45ef-b400-9f8b73834ee4"
      },
      "execution_count": null,
      "outputs": [
        {
          "output_type": "execute_result",
          "data": {
            "text/plain": [
              "                     Model Accuracy\n",
              "Decision Tree              0.590437\n",
              "Random Forest              0.621622\n",
              "SVM                        0.588358\n",
              "Logistic Regression        0.590437\n",
              "Naive Bayes                0.574844"
            ],
            "text/html": [
              "\n",
              "  <div id=\"df-8693058d-e4b8-433f-93c1-cc764c74d8ef\">\n",
              "    <div class=\"colab-df-container\">\n",
              "      <div>\n",
              "<style scoped>\n",
              "    .dataframe tbody tr th:only-of-type {\n",
              "        vertical-align: middle;\n",
              "    }\n",
              "\n",
              "    .dataframe tbody tr th {\n",
              "        vertical-align: top;\n",
              "    }\n",
              "\n",
              "    .dataframe thead th {\n",
              "        text-align: right;\n",
              "    }\n",
              "</style>\n",
              "<table border=\"1\" class=\"dataframe\">\n",
              "  <thead>\n",
              "    <tr style=\"text-align: right;\">\n",
              "      <th></th>\n",
              "      <th>Model Accuracy</th>\n",
              "    </tr>\n",
              "  </thead>\n",
              "  <tbody>\n",
              "    <tr>\n",
              "      <th>Decision Tree</th>\n",
              "      <td>0.590437</td>\n",
              "    </tr>\n",
              "    <tr>\n",
              "      <th>Random Forest</th>\n",
              "      <td>0.621622</td>\n",
              "    </tr>\n",
              "    <tr>\n",
              "      <th>SVM</th>\n",
              "      <td>0.588358</td>\n",
              "    </tr>\n",
              "    <tr>\n",
              "      <th>Logistic Regression</th>\n",
              "      <td>0.590437</td>\n",
              "    </tr>\n",
              "    <tr>\n",
              "      <th>Naive Bayes</th>\n",
              "      <td>0.574844</td>\n",
              "    </tr>\n",
              "  </tbody>\n",
              "</table>\n",
              "</div>\n",
              "      <button class=\"colab-df-convert\" onclick=\"convertToInteractive('df-8693058d-e4b8-433f-93c1-cc764c74d8ef')\"\n",
              "              title=\"Convert this dataframe to an interactive table.\"\n",
              "              style=\"display:none;\">\n",
              "        \n",
              "  <svg xmlns=\"http://www.w3.org/2000/svg\" height=\"24px\"viewBox=\"0 0 24 24\"\n",
              "       width=\"24px\">\n",
              "    <path d=\"M0 0h24v24H0V0z\" fill=\"none\"/>\n",
              "    <path d=\"M18.56 5.44l.94 2.06.94-2.06 2.06-.94-2.06-.94-.94-2.06-.94 2.06-2.06.94zm-11 1L8.5 8.5l.94-2.06 2.06-.94-2.06-.94L8.5 2.5l-.94 2.06-2.06.94zm10 10l.94 2.06.94-2.06 2.06-.94-2.06-.94-.94-2.06-.94 2.06-2.06.94z\"/><path d=\"M17.41 7.96l-1.37-1.37c-.4-.4-.92-.59-1.43-.59-.52 0-1.04.2-1.43.59L10.3 9.45l-7.72 7.72c-.78.78-.78 2.05 0 2.83L4 21.41c.39.39.9.59 1.41.59.51 0 1.02-.2 1.41-.59l7.78-7.78 2.81-2.81c.8-.78.8-2.07 0-2.86zM5.41 20L4 18.59l7.72-7.72 1.47 1.35L5.41 20z\"/>\n",
              "  </svg>\n",
              "      </button>\n",
              "      \n",
              "  <style>\n",
              "    .colab-df-container {\n",
              "      display:flex;\n",
              "      flex-wrap:wrap;\n",
              "      gap: 12px;\n",
              "    }\n",
              "\n",
              "    .colab-df-convert {\n",
              "      background-color: #E8F0FE;\n",
              "      border: none;\n",
              "      border-radius: 50%;\n",
              "      cursor: pointer;\n",
              "      display: none;\n",
              "      fill: #1967D2;\n",
              "      height: 32px;\n",
              "      padding: 0 0 0 0;\n",
              "      width: 32px;\n",
              "    }\n",
              "\n",
              "    .colab-df-convert:hover {\n",
              "      background-color: #E2EBFA;\n",
              "      box-shadow: 0px 1px 2px rgba(60, 64, 67, 0.3), 0px 1px 3px 1px rgba(60, 64, 67, 0.15);\n",
              "      fill: #174EA6;\n",
              "    }\n",
              "\n",
              "    [theme=dark] .colab-df-convert {\n",
              "      background-color: #3B4455;\n",
              "      fill: #D2E3FC;\n",
              "    }\n",
              "\n",
              "    [theme=dark] .colab-df-convert:hover {\n",
              "      background-color: #434B5C;\n",
              "      box-shadow: 0px 1px 3px 1px rgba(0, 0, 0, 0.15);\n",
              "      filter: drop-shadow(0px 1px 2px rgba(0, 0, 0, 0.3));\n",
              "      fill: #FFFFFF;\n",
              "    }\n",
              "  </style>\n",
              "\n",
              "      <script>\n",
              "        const buttonEl =\n",
              "          document.querySelector('#df-8693058d-e4b8-433f-93c1-cc764c74d8ef button.colab-df-convert');\n",
              "        buttonEl.style.display =\n",
              "          google.colab.kernel.accessAllowed ? 'block' : 'none';\n",
              "\n",
              "        async function convertToInteractive(key) {\n",
              "          const element = document.querySelector('#df-8693058d-e4b8-433f-93c1-cc764c74d8ef');\n",
              "          const dataTable =\n",
              "            await google.colab.kernel.invokeFunction('convertToInteractive',\n",
              "                                                     [key], {});\n",
              "          if (!dataTable) return;\n",
              "\n",
              "          const docLinkHtml = 'Like what you see? Visit the ' +\n",
              "            '<a target=\"_blank\" href=https://colab.research.google.com/notebooks/data_table.ipynb>data table notebook</a>'\n",
              "            + ' to learn more about interactive tables.';\n",
              "          element.innerHTML = '';\n",
              "          dataTable['output_type'] = 'display_data';\n",
              "          await google.colab.output.renderOutput(dataTable, element);\n",
              "          const docLink = document.createElement('div');\n",
              "          docLink.innerHTML = docLinkHtml;\n",
              "          element.appendChild(docLink);\n",
              "        }\n",
              "      </script>\n",
              "    </div>\n",
              "  </div>\n",
              "  "
            ]
          },
          "metadata": {},
          "execution_count": 93
        }
      ]
    }
  ],
  "metadata": {
    "colab": {
      "collapsed_sections": [],
      "name": "FYP_Code.ipynb",
      "provenance": []
    },
    "kernelspec": {
      "display_name": "Python 3",
      "name": "python3"
    },
    "language_info": {
      "name": "python"
    }
  },
  "nbformat": 4,
  "nbformat_minor": 0
}